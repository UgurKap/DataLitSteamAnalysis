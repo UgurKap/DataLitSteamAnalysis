{
 "cells": [
  {
   "cell_type": "code",
   "execution_count": 1,
   "id": "6f10ad8e",
   "metadata": {},
   "outputs": [],
   "source": [
    "import pandas as pd\n",
    "import numpy as np"
   ]
  },
  {
   "cell_type": "code",
   "execution_count": 3,
   "id": "65b2453e",
   "metadata": {},
   "outputs": [],
   "source": [
    "data = pd.read_parquet(\"../dat/steam_data.parquet\")"
   ]
  },
  {
   "cell_type": "code",
   "execution_count": 4,
   "id": "c6f6abf6",
   "metadata": {},
   "outputs": [
    {
     "data": {
      "text/html": [
       "<div>\n",
       "<style scoped>\n",
       "    .dataframe tbody tr th:only-of-type {\n",
       "        vertical-align: middle;\n",
       "    }\n",
       "\n",
       "    .dataframe tbody tr th {\n",
       "        vertical-align: top;\n",
       "    }\n",
       "\n",
       "    .dataframe thead th {\n",
       "        text-align: right;\n",
       "    }\n",
       "</style>\n",
       "<table border=\"1\" class=\"dataframe\">\n",
       "  <thead>\n",
       "    <tr style=\"text-align: right;\">\n",
       "      <th></th>\n",
       "      <th>userId</th>\n",
       "      <th>game</th>\n",
       "      <th>action</th>\n",
       "      <th>actionValue</th>\n",
       "    </tr>\n",
       "  </thead>\n",
       "  <tbody>\n",
       "    <tr>\n",
       "      <th>0</th>\n",
       "      <td>151603712</td>\n",
       "      <td>The Elder Scrolls V Skyrim</td>\n",
       "      <td>purchase</td>\n",
       "      <td>1.0</td>\n",
       "    </tr>\n",
       "    <tr>\n",
       "      <th>1</th>\n",
       "      <td>151603712</td>\n",
       "      <td>The Elder Scrolls V Skyrim</td>\n",
       "      <td>play</td>\n",
       "      <td>273.0</td>\n",
       "    </tr>\n",
       "    <tr>\n",
       "      <th>2</th>\n",
       "      <td>151603712</td>\n",
       "      <td>Fallout 4</td>\n",
       "      <td>purchase</td>\n",
       "      <td>1.0</td>\n",
       "    </tr>\n",
       "    <tr>\n",
       "      <th>3</th>\n",
       "      <td>151603712</td>\n",
       "      <td>Fallout 4</td>\n",
       "      <td>play</td>\n",
       "      <td>87.0</td>\n",
       "    </tr>\n",
       "    <tr>\n",
       "      <th>4</th>\n",
       "      <td>151603712</td>\n",
       "      <td>Spore</td>\n",
       "      <td>purchase</td>\n",
       "      <td>1.0</td>\n",
       "    </tr>\n",
       "    <tr>\n",
       "      <th>...</th>\n",
       "      <td>...</td>\n",
       "      <td>...</td>\n",
       "      <td>...</td>\n",
       "      <td>...</td>\n",
       "    </tr>\n",
       "    <tr>\n",
       "      <th>199995</th>\n",
       "      <td>128470551</td>\n",
       "      <td>Titan Souls</td>\n",
       "      <td>play</td>\n",
       "      <td>1.5</td>\n",
       "    </tr>\n",
       "    <tr>\n",
       "      <th>199996</th>\n",
       "      <td>128470551</td>\n",
       "      <td>Grand Theft Auto Vice City</td>\n",
       "      <td>purchase</td>\n",
       "      <td>1.0</td>\n",
       "    </tr>\n",
       "    <tr>\n",
       "      <th>199997</th>\n",
       "      <td>128470551</td>\n",
       "      <td>Grand Theft Auto Vice City</td>\n",
       "      <td>play</td>\n",
       "      <td>1.5</td>\n",
       "    </tr>\n",
       "    <tr>\n",
       "      <th>199998</th>\n",
       "      <td>128470551</td>\n",
       "      <td>RUSH</td>\n",
       "      <td>purchase</td>\n",
       "      <td>1.0</td>\n",
       "    </tr>\n",
       "    <tr>\n",
       "      <th>199999</th>\n",
       "      <td>128470551</td>\n",
       "      <td>RUSH</td>\n",
       "      <td>play</td>\n",
       "      <td>1.4</td>\n",
       "    </tr>\n",
       "  </tbody>\n",
       "</table>\n",
       "<p>200000 rows × 4 columns</p>\n",
       "</div>"
      ],
      "text/plain": [
       "           userId                        game    action  actionValue\n",
       "0       151603712  The Elder Scrolls V Skyrim  purchase          1.0\n",
       "1       151603712  The Elder Scrolls V Skyrim      play        273.0\n",
       "2       151603712                   Fallout 4  purchase          1.0\n",
       "3       151603712                   Fallout 4      play         87.0\n",
       "4       151603712                       Spore  purchase          1.0\n",
       "...           ...                         ...       ...          ...\n",
       "199995  128470551                 Titan Souls      play          1.5\n",
       "199996  128470551  Grand Theft Auto Vice City  purchase          1.0\n",
       "199997  128470551  Grand Theft Auto Vice City      play          1.5\n",
       "199998  128470551                        RUSH  purchase          1.0\n",
       "199999  128470551                        RUSH      play          1.4\n",
       "\n",
       "[200000 rows x 4 columns]"
      ]
     },
     "execution_count": 4,
     "metadata": {},
     "output_type": "execute_result"
    }
   ],
   "source": [
    "data"
   ]
  },
  {
   "cell_type": "code",
   "execution_count": 8,
   "id": "944761e5",
   "metadata": {},
   "outputs": [
    {
     "name": "stdout",
     "output_type": "stream",
     "text": [
      "Number of unique userId: 12393\n",
      "Number of unique game: 5155\n",
      "Number of unique action: 2\n",
      "Number of unique actionValue: 1593\n"
     ]
    }
   ],
   "source": [
    "for col in data.columns:\n",
    "    print(f\"Number of unique {col}: {len(data[col].unique())}\")"
   ]
  },
  {
   "cell_type": "markdown",
   "id": "adab3e64",
   "metadata": {},
   "source": [
    "Maybe it is better if we separate the dataset into two, as puchases and plays."
   ]
  },
  {
   "cell_type": "code",
   "execution_count": 37,
   "id": "d4f41b12",
   "metadata": {},
   "outputs": [],
   "source": [
    "purchase_data = data.loc[data.action == \"purchase\"]\n",
    "play_data = data.loc[data.action != \"purchase\"]\n",
    "\n",
    "purchase_data.reset_index(inplace=True, drop=True)\n",
    "play_data.reset_index(inplace=True, drop=True)"
   ]
  },
  {
   "cell_type": "code",
   "execution_count": 38,
   "id": "876d5a55",
   "metadata": {},
   "outputs": [
    {
     "data": {
      "text/html": [
       "<div>\n",
       "<style scoped>\n",
       "    .dataframe tbody tr th:only-of-type {\n",
       "        vertical-align: middle;\n",
       "    }\n",
       "\n",
       "    .dataframe tbody tr th {\n",
       "        vertical-align: top;\n",
       "    }\n",
       "\n",
       "    .dataframe thead th {\n",
       "        text-align: right;\n",
       "    }\n",
       "</style>\n",
       "<table border=\"1\" class=\"dataframe\">\n",
       "  <thead>\n",
       "    <tr style=\"text-align: right;\">\n",
       "      <th></th>\n",
       "      <th>userId</th>\n",
       "      <th>game</th>\n",
       "      <th>action</th>\n",
       "      <th>actionValue</th>\n",
       "    </tr>\n",
       "  </thead>\n",
       "  <tbody>\n",
       "    <tr>\n",
       "      <th>0</th>\n",
       "      <td>151603712</td>\n",
       "      <td>The Elder Scrolls V Skyrim</td>\n",
       "      <td>purchase</td>\n",
       "      <td>1.0</td>\n",
       "    </tr>\n",
       "    <tr>\n",
       "      <th>1</th>\n",
       "      <td>151603712</td>\n",
       "      <td>Fallout 4</td>\n",
       "      <td>purchase</td>\n",
       "      <td>1.0</td>\n",
       "    </tr>\n",
       "    <tr>\n",
       "      <th>2</th>\n",
       "      <td>151603712</td>\n",
       "      <td>Spore</td>\n",
       "      <td>purchase</td>\n",
       "      <td>1.0</td>\n",
       "    </tr>\n",
       "    <tr>\n",
       "      <th>3</th>\n",
       "      <td>151603712</td>\n",
       "      <td>Fallout New Vegas</td>\n",
       "      <td>purchase</td>\n",
       "      <td>1.0</td>\n",
       "    </tr>\n",
       "    <tr>\n",
       "      <th>4</th>\n",
       "      <td>151603712</td>\n",
       "      <td>Left 4 Dead 2</td>\n",
       "      <td>purchase</td>\n",
       "      <td>1.0</td>\n",
       "    </tr>\n",
       "  </tbody>\n",
       "</table>\n",
       "</div>"
      ],
      "text/plain": [
       "      userId                        game    action  actionValue\n",
       "0  151603712  The Elder Scrolls V Skyrim  purchase          1.0\n",
       "1  151603712                   Fallout 4  purchase          1.0\n",
       "2  151603712                       Spore  purchase          1.0\n",
       "3  151603712           Fallout New Vegas  purchase          1.0\n",
       "4  151603712               Left 4 Dead 2  purchase          1.0"
      ]
     },
     "execution_count": 38,
     "metadata": {},
     "output_type": "execute_result"
    }
   ],
   "source": [
    "purchase_data.head()"
   ]
  },
  {
   "cell_type": "code",
   "execution_count": 39,
   "id": "de6ab1c9",
   "metadata": {},
   "outputs": [
    {
     "data": {
      "text/html": [
       "<div>\n",
       "<style scoped>\n",
       "    .dataframe tbody tr th:only-of-type {\n",
       "        vertical-align: middle;\n",
       "    }\n",
       "\n",
       "    .dataframe tbody tr th {\n",
       "        vertical-align: top;\n",
       "    }\n",
       "\n",
       "    .dataframe thead th {\n",
       "        text-align: right;\n",
       "    }\n",
       "</style>\n",
       "<table border=\"1\" class=\"dataframe\">\n",
       "  <thead>\n",
       "    <tr style=\"text-align: right;\">\n",
       "      <th></th>\n",
       "      <th>userId</th>\n",
       "      <th>game</th>\n",
       "      <th>action</th>\n",
       "      <th>actionValue</th>\n",
       "    </tr>\n",
       "  </thead>\n",
       "  <tbody>\n",
       "    <tr>\n",
       "      <th>0</th>\n",
       "      <td>151603712</td>\n",
       "      <td>The Elder Scrolls V Skyrim</td>\n",
       "      <td>play</td>\n",
       "      <td>273.0</td>\n",
       "    </tr>\n",
       "    <tr>\n",
       "      <th>1</th>\n",
       "      <td>151603712</td>\n",
       "      <td>Fallout 4</td>\n",
       "      <td>play</td>\n",
       "      <td>87.0</td>\n",
       "    </tr>\n",
       "    <tr>\n",
       "      <th>2</th>\n",
       "      <td>151603712</td>\n",
       "      <td>Spore</td>\n",
       "      <td>play</td>\n",
       "      <td>14.9</td>\n",
       "    </tr>\n",
       "    <tr>\n",
       "      <th>3</th>\n",
       "      <td>151603712</td>\n",
       "      <td>Fallout New Vegas</td>\n",
       "      <td>play</td>\n",
       "      <td>12.1</td>\n",
       "    </tr>\n",
       "    <tr>\n",
       "      <th>4</th>\n",
       "      <td>151603712</td>\n",
       "      <td>Left 4 Dead 2</td>\n",
       "      <td>play</td>\n",
       "      <td>8.9</td>\n",
       "    </tr>\n",
       "  </tbody>\n",
       "</table>\n",
       "</div>"
      ],
      "text/plain": [
       "      userId                        game action  actionValue\n",
       "0  151603712  The Elder Scrolls V Skyrim   play        273.0\n",
       "1  151603712                   Fallout 4   play         87.0\n",
       "2  151603712                       Spore   play         14.9\n",
       "3  151603712           Fallout New Vegas   play         12.1\n",
       "4  151603712               Left 4 Dead 2   play          8.9"
      ]
     },
     "execution_count": 39,
     "metadata": {},
     "output_type": "execute_result"
    }
   ],
   "source": [
    "play_data.head()"
   ]
  },
  {
   "cell_type": "code",
   "execution_count": 40,
   "id": "75cd5b4b",
   "metadata": {},
   "outputs": [
    {
     "name": "stderr",
     "output_type": "stream",
     "text": [
      "/home/ugurkap/miniconda3/envs/datalit/lib/python3.8/site-packages/pandas/core/frame.py:4906: SettingWithCopyWarning: \n",
      "A value is trying to be set on a copy of a slice from a DataFrame\n",
      "\n",
      "See the caveats in the documentation: https://pandas.pydata.org/pandas-docs/stable/user_guide/indexing.html#returning-a-view-versus-a-copy\n",
      "  return super().drop(\n"
     ]
    }
   ],
   "source": [
    "purchase_data.drop([\"action\", \"actionValue\"], axis=1, inplace=True)"
   ]
  },
  {
   "cell_type": "code",
   "execution_count": 41,
   "id": "bd847a56",
   "metadata": {},
   "outputs": [
    {
     "data": {
      "text/html": [
       "<div>\n",
       "<style scoped>\n",
       "    .dataframe tbody tr th:only-of-type {\n",
       "        vertical-align: middle;\n",
       "    }\n",
       "\n",
       "    .dataframe tbody tr th {\n",
       "        vertical-align: top;\n",
       "    }\n",
       "\n",
       "    .dataframe thead th {\n",
       "        text-align: right;\n",
       "    }\n",
       "</style>\n",
       "<table border=\"1\" class=\"dataframe\">\n",
       "  <thead>\n",
       "    <tr style=\"text-align: right;\">\n",
       "      <th></th>\n",
       "      <th>userId</th>\n",
       "      <th>game</th>\n",
       "    </tr>\n",
       "  </thead>\n",
       "  <tbody>\n",
       "    <tr>\n",
       "      <th>0</th>\n",
       "      <td>151603712</td>\n",
       "      <td>The Elder Scrolls V Skyrim</td>\n",
       "    </tr>\n",
       "    <tr>\n",
       "      <th>1</th>\n",
       "      <td>151603712</td>\n",
       "      <td>Fallout 4</td>\n",
       "    </tr>\n",
       "    <tr>\n",
       "      <th>2</th>\n",
       "      <td>151603712</td>\n",
       "      <td>Spore</td>\n",
       "    </tr>\n",
       "    <tr>\n",
       "      <th>3</th>\n",
       "      <td>151603712</td>\n",
       "      <td>Fallout New Vegas</td>\n",
       "    </tr>\n",
       "    <tr>\n",
       "      <th>4</th>\n",
       "      <td>151603712</td>\n",
       "      <td>Left 4 Dead 2</td>\n",
       "    </tr>\n",
       "    <tr>\n",
       "      <th>...</th>\n",
       "      <td>...</td>\n",
       "      <td>...</td>\n",
       "    </tr>\n",
       "    <tr>\n",
       "      <th>129506</th>\n",
       "      <td>128470551</td>\n",
       "      <td>Fallen Earth</td>\n",
       "    </tr>\n",
       "    <tr>\n",
       "      <th>129507</th>\n",
       "      <td>128470551</td>\n",
       "      <td>Magic Duels</td>\n",
       "    </tr>\n",
       "    <tr>\n",
       "      <th>129508</th>\n",
       "      <td>128470551</td>\n",
       "      <td>Titan Souls</td>\n",
       "    </tr>\n",
       "    <tr>\n",
       "      <th>129509</th>\n",
       "      <td>128470551</td>\n",
       "      <td>Grand Theft Auto Vice City</td>\n",
       "    </tr>\n",
       "    <tr>\n",
       "      <th>129510</th>\n",
       "      <td>128470551</td>\n",
       "      <td>RUSH</td>\n",
       "    </tr>\n",
       "  </tbody>\n",
       "</table>\n",
       "<p>129511 rows × 2 columns</p>\n",
       "</div>"
      ],
      "text/plain": [
       "           userId                        game\n",
       "0       151603712  The Elder Scrolls V Skyrim\n",
       "1       151603712                   Fallout 4\n",
       "2       151603712                       Spore\n",
       "3       151603712           Fallout New Vegas\n",
       "4       151603712               Left 4 Dead 2\n",
       "...           ...                         ...\n",
       "129506  128470551                Fallen Earth\n",
       "129507  128470551                 Magic Duels\n",
       "129508  128470551                 Titan Souls\n",
       "129509  128470551  Grand Theft Auto Vice City\n",
       "129510  128470551                        RUSH\n",
       "\n",
       "[129511 rows x 2 columns]"
      ]
     },
     "execution_count": 41,
     "metadata": {},
     "output_type": "execute_result"
    }
   ],
   "source": [
    "purchase_data"
   ]
  },
  {
   "cell_type": "code",
   "execution_count": 42,
   "id": "25d55088",
   "metadata": {},
   "outputs": [
    {
     "name": "stderr",
     "output_type": "stream",
     "text": [
      "/home/ugurkap/miniconda3/envs/datalit/lib/python3.8/site-packages/pandas/core/frame.py:4906: SettingWithCopyWarning: \n",
      "A value is trying to be set on a copy of a slice from a DataFrame\n",
      "\n",
      "See the caveats in the documentation: https://pandas.pydata.org/pandas-docs/stable/user_guide/indexing.html#returning-a-view-versus-a-copy\n",
      "  return super().drop(\n"
     ]
    }
   ],
   "source": [
    "play_data.drop([\"action\"], axis=1, inplace=True)"
   ]
  },
  {
   "cell_type": "code",
   "execution_count": 43,
   "id": "5365e987",
   "metadata": {},
   "outputs": [
    {
     "data": {
      "text/html": [
       "<div>\n",
       "<style scoped>\n",
       "    .dataframe tbody tr th:only-of-type {\n",
       "        vertical-align: middle;\n",
       "    }\n",
       "\n",
       "    .dataframe tbody tr th {\n",
       "        vertical-align: top;\n",
       "    }\n",
       "\n",
       "    .dataframe thead th {\n",
       "        text-align: right;\n",
       "    }\n",
       "</style>\n",
       "<table border=\"1\" class=\"dataframe\">\n",
       "  <thead>\n",
       "    <tr style=\"text-align: right;\">\n",
       "      <th></th>\n",
       "      <th>userId</th>\n",
       "      <th>game</th>\n",
       "      <th>actionValue</th>\n",
       "    </tr>\n",
       "  </thead>\n",
       "  <tbody>\n",
       "    <tr>\n",
       "      <th>0</th>\n",
       "      <td>151603712</td>\n",
       "      <td>The Elder Scrolls V Skyrim</td>\n",
       "      <td>273.0</td>\n",
       "    </tr>\n",
       "    <tr>\n",
       "      <th>1</th>\n",
       "      <td>151603712</td>\n",
       "      <td>Fallout 4</td>\n",
       "      <td>87.0</td>\n",
       "    </tr>\n",
       "    <tr>\n",
       "      <th>2</th>\n",
       "      <td>151603712</td>\n",
       "      <td>Spore</td>\n",
       "      <td>14.9</td>\n",
       "    </tr>\n",
       "    <tr>\n",
       "      <th>3</th>\n",
       "      <td>151603712</td>\n",
       "      <td>Fallout New Vegas</td>\n",
       "      <td>12.1</td>\n",
       "    </tr>\n",
       "    <tr>\n",
       "      <th>4</th>\n",
       "      <td>151603712</td>\n",
       "      <td>Left 4 Dead 2</td>\n",
       "      <td>8.9</td>\n",
       "    </tr>\n",
       "    <tr>\n",
       "      <th>...</th>\n",
       "      <td>...</td>\n",
       "      <td>...</td>\n",
       "      <td>...</td>\n",
       "    </tr>\n",
       "    <tr>\n",
       "      <th>70484</th>\n",
       "      <td>128470551</td>\n",
       "      <td>Fallen Earth</td>\n",
       "      <td>2.4</td>\n",
       "    </tr>\n",
       "    <tr>\n",
       "      <th>70485</th>\n",
       "      <td>128470551</td>\n",
       "      <td>Magic Duels</td>\n",
       "      <td>2.2</td>\n",
       "    </tr>\n",
       "    <tr>\n",
       "      <th>70486</th>\n",
       "      <td>128470551</td>\n",
       "      <td>Titan Souls</td>\n",
       "      <td>1.5</td>\n",
       "    </tr>\n",
       "    <tr>\n",
       "      <th>70487</th>\n",
       "      <td>128470551</td>\n",
       "      <td>Grand Theft Auto Vice City</td>\n",
       "      <td>1.5</td>\n",
       "    </tr>\n",
       "    <tr>\n",
       "      <th>70488</th>\n",
       "      <td>128470551</td>\n",
       "      <td>RUSH</td>\n",
       "      <td>1.4</td>\n",
       "    </tr>\n",
       "  </tbody>\n",
       "</table>\n",
       "<p>70489 rows × 3 columns</p>\n",
       "</div>"
      ],
      "text/plain": [
       "          userId                        game  actionValue\n",
       "0      151603712  The Elder Scrolls V Skyrim        273.0\n",
       "1      151603712                   Fallout 4         87.0\n",
       "2      151603712                       Spore         14.9\n",
       "3      151603712           Fallout New Vegas         12.1\n",
       "4      151603712               Left 4 Dead 2          8.9\n",
       "...          ...                         ...          ...\n",
       "70484  128470551                Fallen Earth          2.4\n",
       "70485  128470551                 Magic Duels          2.2\n",
       "70486  128470551                 Titan Souls          1.5\n",
       "70487  128470551  Grand Theft Auto Vice City          1.5\n",
       "70488  128470551                        RUSH          1.4\n",
       "\n",
       "[70489 rows x 3 columns]"
      ]
     },
     "execution_count": 43,
     "metadata": {},
     "output_type": "execute_result"
    }
   ],
   "source": [
    "play_data"
   ]
  },
  {
   "cell_type": "code",
   "execution_count": 44,
   "id": "b82ef9e6",
   "metadata": {},
   "outputs": [],
   "source": [
    "purchase_data.to_parquet(\"../dat/steam_purchase.parquet\")\n",
    "play_data.to_parquet(\"../dat/steam_play.parquet\")"
   ]
  },
  {
   "cell_type": "code",
   "execution_count": 66,
   "id": "8d06a1dd",
   "metadata": {},
   "outputs": [],
   "source": [
    "number_of_games_df = purchase_data.groupby(\"userId\", as_index=False).count().sort_values([\"game\"], ascending=False)"
   ]
  },
  {
   "cell_type": "code",
   "execution_count": 67,
   "id": "9db72cd3",
   "metadata": {},
   "outputs": [
    {
     "data": {
      "text/html": [
       "<div>\n",
       "<style scoped>\n",
       "    .dataframe tbody tr th:only-of-type {\n",
       "        vertical-align: middle;\n",
       "    }\n",
       "\n",
       "    .dataframe tbody tr th {\n",
       "        vertical-align: top;\n",
       "    }\n",
       "\n",
       "    .dataframe thead th {\n",
       "        text-align: right;\n",
       "    }\n",
       "</style>\n",
       "<table border=\"1\" class=\"dataframe\">\n",
       "  <thead>\n",
       "    <tr style=\"text-align: right;\">\n",
       "      <th></th>\n",
       "      <th>userId</th>\n",
       "      <th>game</th>\n",
       "    </tr>\n",
       "  </thead>\n",
       "  <tbody>\n",
       "    <tr>\n",
       "      <th>1729</th>\n",
       "      <td>62990992</td>\n",
       "      <td>1075</td>\n",
       "    </tr>\n",
       "    <tr>\n",
       "      <th>784</th>\n",
       "      <td>33865373</td>\n",
       "      <td>783</td>\n",
       "    </tr>\n",
       "    <tr>\n",
       "      <th>657</th>\n",
       "      <td>30246419</td>\n",
       "      <td>766</td>\n",
       "    </tr>\n",
       "    <tr>\n",
       "      <th>1555</th>\n",
       "      <td>58345543</td>\n",
       "      <td>667</td>\n",
       "    </tr>\n",
       "    <tr>\n",
       "      <th>2237</th>\n",
       "      <td>76892907</td>\n",
       "      <td>597</td>\n",
       "    </tr>\n",
       "    <tr>\n",
       "      <th>...</th>\n",
       "      <td>...</td>\n",
       "      <td>...</td>\n",
       "    </tr>\n",
       "    <tr>\n",
       "      <th>6472</th>\n",
       "      <td>169958335</td>\n",
       "      <td>1</td>\n",
       "    </tr>\n",
       "    <tr>\n",
       "      <th>6471</th>\n",
       "      <td>169953184</td>\n",
       "      <td>1</td>\n",
       "    </tr>\n",
       "    <tr>\n",
       "      <th>6468</th>\n",
       "      <td>169919297</td>\n",
       "      <td>1</td>\n",
       "    </tr>\n",
       "    <tr>\n",
       "      <th>6464</th>\n",
       "      <td>169845810</td>\n",
       "      <td>1</td>\n",
       "    </tr>\n",
       "    <tr>\n",
       "      <th>12392</th>\n",
       "      <td>309903146</td>\n",
       "      <td>1</td>\n",
       "    </tr>\n",
       "  </tbody>\n",
       "</table>\n",
       "<p>12393 rows × 2 columns</p>\n",
       "</div>"
      ],
      "text/plain": [
       "          userId  game\n",
       "1729    62990992  1075\n",
       "784     33865373   783\n",
       "657     30246419   766\n",
       "1555    58345543   667\n",
       "2237    76892907   597\n",
       "...          ...   ...\n",
       "6472   169958335     1\n",
       "6471   169953184     1\n",
       "6468   169919297     1\n",
       "6464   169845810     1\n",
       "12392  309903146     1\n",
       "\n",
       "[12393 rows x 2 columns]"
      ]
     },
     "execution_count": 67,
     "metadata": {},
     "output_type": "execute_result"
    }
   ],
   "source": [
    "number_of_games_df"
   ]
  },
  {
   "cell_type": "code",
   "execution_count": 69,
   "id": "af81b92e",
   "metadata": {},
   "outputs": [
    {
     "data": {
      "text/plain": [
       "count    12393.000000\n",
       "mean        10.450335\n",
       "std         35.864269\n",
       "min          1.000000\n",
       "25%          1.000000\n",
       "50%          2.000000\n",
       "75%          6.000000\n",
       "max       1075.000000\n",
       "Name: game, dtype: float64"
      ]
     },
     "execution_count": 69,
     "metadata": {},
     "output_type": "execute_result"
    }
   ],
   "source": [
    "number_of_games_df.game.describe()"
   ]
  },
  {
   "cell_type": "markdown",
   "id": "7cad5ed7",
   "metadata": {},
   "source": [
    "With this, we see that the mean of the purchased games per user in the dataset is $10.45$. However, an interesting thing to note would be some users with a high number of purchased games. If we would like to use the interquartile range to find out the number of outliers, we see that:\n",
    "\n",
    "$$\n",
    "IQR = 6 - 1 = 5\\\\\n",
    "1.5 \\times IQR = 7.5\n",
    "$$\n",
    "\n",
    "Then, any user who bought more than $13.5$ games can be considered outlier in this dataset.\n",
    "\n",
    "Then, how many of the players here are outliers?:"
   ]
  },
  {
   "cell_type": "code",
   "execution_count": 70,
   "id": "41db0c80",
   "metadata": {},
   "outputs": [
    {
     "data": {
      "text/plain": [
       "1677"
      ]
     },
     "execution_count": 70,
     "metadata": {},
     "output_type": "execute_result"
    }
   ],
   "source": [
    "len(number_of_games_df[number_of_games_df.game > 13.5])"
   ]
  },
  {
   "cell_type": "markdown",
   "id": "7b552c00",
   "metadata": {},
   "source": [
    "It seems that out of $12393$ gamers, $1677$ of them have more than $13.5$ games. This means $13.53\\%$ of the players are outliers, and they are increasing the mean.\n",
    "\n",
    "However, a possible objection to this analysis would be the high number of players whom only purchased one game, which means they are either not on the platform anymore, or they are new users. Thus, they are skewing the number towards them. Let's see how many users have only one game, and out of those how many users played a game for more than $2$ hours, which is the refund limit on Steam."
   ]
  },
  {
   "cell_type": "code",
   "execution_count": 58,
   "id": "55e0ae51",
   "metadata": {},
   "outputs": [
    {
     "data": {
      "text/plain": [
       "5693"
      ]
     },
     "execution_count": 58,
     "metadata": {},
     "output_type": "execute_result"
    }
   ],
   "source": [
    "len(number_of_games_df[number_of_games_df.game == 1])"
   ]
  },
  {
   "cell_type": "code",
   "execution_count": 71,
   "id": "5f6fa0b9",
   "metadata": {},
   "outputs": [],
   "source": [
    "playtime_df = play_data.groupby(\"userId\", as_index=False).sum().sort_values([\"actionValue\"], ascending=False)"
   ]
  },
  {
   "cell_type": "code",
   "execution_count": 72,
   "id": "6a4f0f8e",
   "metadata": {},
   "outputs": [
    {
     "data": {
      "text/html": [
       "<div>\n",
       "<style scoped>\n",
       "    .dataframe tbody tr th:only-of-type {\n",
       "        vertical-align: middle;\n",
       "    }\n",
       "\n",
       "    .dataframe tbody tr th {\n",
       "        vertical-align: top;\n",
       "    }\n",
       "\n",
       "    .dataframe thead th {\n",
       "        text-align: right;\n",
       "    }\n",
       "</style>\n",
       "<table border=\"1\" class=\"dataframe\">\n",
       "  <thead>\n",
       "    <tr style=\"text-align: right;\">\n",
       "      <th></th>\n",
       "      <th>userId</th>\n",
       "      <th>actionValue</th>\n",
       "    </tr>\n",
       "  </thead>\n",
       "  <tbody>\n",
       "    <tr>\n",
       "      <th>1810</th>\n",
       "      <td>73017395</td>\n",
       "      <td>11754.0</td>\n",
       "    </tr>\n",
       "    <tr>\n",
       "      <th>158</th>\n",
       "      <td>10599862</td>\n",
       "      <td>11651.7</td>\n",
       "    </tr>\n",
       "    <tr>\n",
       "      <th>2889</th>\n",
       "      <td>100630947</td>\n",
       "      <td>10853.2</td>\n",
       "    </tr>\n",
       "    <tr>\n",
       "      <th>428</th>\n",
       "      <td>26762388</td>\n",
       "      <td>10470.1</td>\n",
       "    </tr>\n",
       "    <tr>\n",
       "      <th>5157</th>\n",
       "      <td>153382649</td>\n",
       "      <td>9640.0</td>\n",
       "    </tr>\n",
       "    <tr>\n",
       "      <th>...</th>\n",
       "      <td>...</td>\n",
       "      <td>...</td>\n",
       "    </tr>\n",
       "    <tr>\n",
       "      <th>4171</th>\n",
       "      <td>130950166</td>\n",
       "      <td>0.1</td>\n",
       "    </tr>\n",
       "    <tr>\n",
       "      <th>4755</th>\n",
       "      <td>144307381</td>\n",
       "      <td>0.1</td>\n",
       "    </tr>\n",
       "    <tr>\n",
       "      <th>514</th>\n",
       "      <td>29750135</td>\n",
       "      <td>0.1</td>\n",
       "    </tr>\n",
       "    <tr>\n",
       "      <th>10512</th>\n",
       "      <td>285316500</td>\n",
       "      <td>0.1</td>\n",
       "    </tr>\n",
       "    <tr>\n",
       "      <th>9249</th>\n",
       "      <td>239544929</td>\n",
       "      <td>0.1</td>\n",
       "    </tr>\n",
       "  </tbody>\n",
       "</table>\n",
       "<p>11350 rows × 2 columns</p>\n",
       "</div>"
      ],
      "text/plain": [
       "          userId  actionValue\n",
       "1810    73017395      11754.0\n",
       "158     10599862      11651.7\n",
       "2889   100630947      10853.2\n",
       "428     26762388      10470.1\n",
       "5157   153382649       9640.0\n",
       "...          ...          ...\n",
       "4171   130950166          0.1\n",
       "4755   144307381          0.1\n",
       "514     29750135          0.1\n",
       "10512  285316500          0.1\n",
       "9249   239544929          0.1\n",
       "\n",
       "[11350 rows x 2 columns]"
      ]
     },
     "execution_count": 72,
     "metadata": {},
     "output_type": "execute_result"
    }
   ],
   "source": [
    "playtime_df"
   ]
  },
  {
   "cell_type": "code",
   "execution_count": 73,
   "id": "5d660f32",
   "metadata": {},
   "outputs": [
    {
     "data": {
      "text/plain": [
       "count    11350.000000\n",
       "mean       303.556458\n",
       "std        789.541803\n",
       "min          0.100000\n",
       "25%          2.300000\n",
       "50%         19.500000\n",
       "75%        198.975000\n",
       "max      11754.000000\n",
       "Name: actionValue, dtype: float64"
      ]
     },
     "execution_count": 73,
     "metadata": {},
     "output_type": "execute_result"
    }
   ],
   "source": [
    "playtime_df.actionValue.describe()"
   ]
  },
  {
   "cell_type": "code",
   "execution_count": 79,
   "id": "6aa46fab",
   "metadata": {},
   "outputs": [],
   "source": [
    "play_and_purchase_df = playtime_df.merge(right=number_of_games_df, how=\"inner\", on=\"userId\")"
   ]
  },
  {
   "cell_type": "code",
   "execution_count": 80,
   "id": "29d22bd6",
   "metadata": {},
   "outputs": [
    {
     "data": {
      "text/html": [
       "<div>\n",
       "<style scoped>\n",
       "    .dataframe tbody tr th:only-of-type {\n",
       "        vertical-align: middle;\n",
       "    }\n",
       "\n",
       "    .dataframe tbody tr th {\n",
       "        vertical-align: top;\n",
       "    }\n",
       "\n",
       "    .dataframe thead th {\n",
       "        text-align: right;\n",
       "    }\n",
       "</style>\n",
       "<table border=\"1\" class=\"dataframe\">\n",
       "  <thead>\n",
       "    <tr style=\"text-align: right;\">\n",
       "      <th></th>\n",
       "      <th>userId</th>\n",
       "      <th>actionValue</th>\n",
       "      <th>game</th>\n",
       "    </tr>\n",
       "  </thead>\n",
       "  <tbody>\n",
       "    <tr>\n",
       "      <th>0</th>\n",
       "      <td>73017395</td>\n",
       "      <td>11754.0</td>\n",
       "      <td>1</td>\n",
       "    </tr>\n",
       "    <tr>\n",
       "      <th>1</th>\n",
       "      <td>10599862</td>\n",
       "      <td>11651.7</td>\n",
       "      <td>257</td>\n",
       "    </tr>\n",
       "    <tr>\n",
       "      <th>2</th>\n",
       "      <td>100630947</td>\n",
       "      <td>10853.2</td>\n",
       "      <td>10</td>\n",
       "    </tr>\n",
       "    <tr>\n",
       "      <th>3</th>\n",
       "      <td>26762388</td>\n",
       "      <td>10470.1</td>\n",
       "      <td>281</td>\n",
       "    </tr>\n",
       "    <tr>\n",
       "      <th>4</th>\n",
       "      <td>153382649</td>\n",
       "      <td>9640.0</td>\n",
       "      <td>2</td>\n",
       "    </tr>\n",
       "    <tr>\n",
       "      <th>...</th>\n",
       "      <td>...</td>\n",
       "      <td>...</td>\n",
       "      <td>...</td>\n",
       "    </tr>\n",
       "    <tr>\n",
       "      <th>11345</th>\n",
       "      <td>130950166</td>\n",
       "      <td>0.1</td>\n",
       "      <td>1</td>\n",
       "    </tr>\n",
       "    <tr>\n",
       "      <th>11346</th>\n",
       "      <td>144307381</td>\n",
       "      <td>0.1</td>\n",
       "      <td>1</td>\n",
       "    </tr>\n",
       "    <tr>\n",
       "      <th>11347</th>\n",
       "      <td>29750135</td>\n",
       "      <td>0.1</td>\n",
       "      <td>1</td>\n",
       "    </tr>\n",
       "    <tr>\n",
       "      <th>11348</th>\n",
       "      <td>285316500</td>\n",
       "      <td>0.1</td>\n",
       "      <td>1</td>\n",
       "    </tr>\n",
       "    <tr>\n",
       "      <th>11349</th>\n",
       "      <td>239544929</td>\n",
       "      <td>0.1</td>\n",
       "      <td>13</td>\n",
       "    </tr>\n",
       "  </tbody>\n",
       "</table>\n",
       "<p>11350 rows × 3 columns</p>\n",
       "</div>"
      ],
      "text/plain": [
       "          userId  actionValue  game\n",
       "0       73017395      11754.0     1\n",
       "1       10599862      11651.7   257\n",
       "2      100630947      10853.2    10\n",
       "3       26762388      10470.1   281\n",
       "4      153382649       9640.0     2\n",
       "...          ...          ...   ...\n",
       "11345  130950166          0.1     1\n",
       "11346  144307381          0.1     1\n",
       "11347   29750135          0.1     1\n",
       "11348  285316500          0.1     1\n",
       "11349  239544929          0.1    13\n",
       "\n",
       "[11350 rows x 3 columns]"
      ]
     },
     "execution_count": 80,
     "metadata": {},
     "output_type": "execute_result"
    }
   ],
   "source": [
    "play_and_purchase_df"
   ]
  },
  {
   "cell_type": "markdown",
   "id": "44b38378",
   "metadata": {},
   "source": [
    "When we do an inner join, we are left with the users that both have purchased a game and played a game on Steam. We have to be careful about here, as there are also free-to-play games on Steam."
   ]
  },
  {
   "cell_type": "code",
   "execution_count": 85,
   "id": "e850b0e8",
   "metadata": {},
   "outputs": [],
   "source": [
    "play_and_purchase_df = number_of_games_df.merge(right=playtime_df, how=\"outer\", on=\"userId\")"
   ]
  },
  {
   "cell_type": "code",
   "execution_count": 86,
   "id": "7f60e759",
   "metadata": {},
   "outputs": [
    {
     "data": {
      "text/html": [
       "<div>\n",
       "<style scoped>\n",
       "    .dataframe tbody tr th:only-of-type {\n",
       "        vertical-align: middle;\n",
       "    }\n",
       "\n",
       "    .dataframe tbody tr th {\n",
       "        vertical-align: top;\n",
       "    }\n",
       "\n",
       "    .dataframe thead th {\n",
       "        text-align: right;\n",
       "    }\n",
       "</style>\n",
       "<table border=\"1\" class=\"dataframe\">\n",
       "  <thead>\n",
       "    <tr style=\"text-align: right;\">\n",
       "      <th></th>\n",
       "      <th>userId</th>\n",
       "      <th>game</th>\n",
       "      <th>actionValue</th>\n",
       "    </tr>\n",
       "  </thead>\n",
       "  <tbody>\n",
       "    <tr>\n",
       "      <th>0</th>\n",
       "      <td>62990992</td>\n",
       "      <td>1075</td>\n",
       "      <td>5724.8</td>\n",
       "    </tr>\n",
       "    <tr>\n",
       "      <th>1</th>\n",
       "      <td>33865373</td>\n",
       "      <td>783</td>\n",
       "      <td>2274.4</td>\n",
       "    </tr>\n",
       "    <tr>\n",
       "      <th>2</th>\n",
       "      <td>30246419</td>\n",
       "      <td>766</td>\n",
       "      <td>1219.7</td>\n",
       "    </tr>\n",
       "    <tr>\n",
       "      <th>3</th>\n",
       "      <td>58345543</td>\n",
       "      <td>667</td>\n",
       "      <td>1374.9</td>\n",
       "    </tr>\n",
       "    <tr>\n",
       "      <th>4</th>\n",
       "      <td>76892907</td>\n",
       "      <td>597</td>\n",
       "      <td>2731.3</td>\n",
       "    </tr>\n",
       "    <tr>\n",
       "      <th>...</th>\n",
       "      <td>...</td>\n",
       "      <td>...</td>\n",
       "      <td>...</td>\n",
       "    </tr>\n",
       "    <tr>\n",
       "      <th>12388</th>\n",
       "      <td>169958335</td>\n",
       "      <td>1</td>\n",
       "      <td>5.8</td>\n",
       "    </tr>\n",
       "    <tr>\n",
       "      <th>12389</th>\n",
       "      <td>169953184</td>\n",
       "      <td>1</td>\n",
       "      <td>18.0</td>\n",
       "    </tr>\n",
       "    <tr>\n",
       "      <th>12390</th>\n",
       "      <td>169919297</td>\n",
       "      <td>1</td>\n",
       "      <td>4.8</td>\n",
       "    </tr>\n",
       "    <tr>\n",
       "      <th>12391</th>\n",
       "      <td>169845810</td>\n",
       "      <td>1</td>\n",
       "      <td>0.7</td>\n",
       "    </tr>\n",
       "    <tr>\n",
       "      <th>12392</th>\n",
       "      <td>309903146</td>\n",
       "      <td>1</td>\n",
       "      <td>0.2</td>\n",
       "    </tr>\n",
       "  </tbody>\n",
       "</table>\n",
       "<p>12393 rows × 3 columns</p>\n",
       "</div>"
      ],
      "text/plain": [
       "          userId  game  actionValue\n",
       "0       62990992  1075       5724.8\n",
       "1       33865373   783       2274.4\n",
       "2       30246419   766       1219.7\n",
       "3       58345543   667       1374.9\n",
       "4       76892907   597       2731.3\n",
       "...          ...   ...          ...\n",
       "12388  169958335     1          5.8\n",
       "12389  169953184     1         18.0\n",
       "12390  169919297     1          4.8\n",
       "12391  169845810     1          0.7\n",
       "12392  309903146     1          0.2\n",
       "\n",
       "[12393 rows x 3 columns]"
      ]
     },
     "execution_count": 86,
     "metadata": {},
     "output_type": "execute_result"
    }
   ],
   "source": [
    "play_and_purchase_df"
   ]
  },
  {
   "cell_type": "code",
   "execution_count": 94,
   "id": "08cf67c7",
   "metadata": {},
   "outputs": [
    {
     "data": {
      "text/plain": [
       "0"
      ]
     },
     "execution_count": 94,
     "metadata": {},
     "output_type": "execute_result"
    }
   ],
   "source": [
    "play_and_purchase_df.game.isna().sum()"
   ]
  },
  {
   "cell_type": "markdown",
   "id": "9c10af15",
   "metadata": {},
   "source": [
    "An interesting thing we observe is that even though we used an outer join, all of the users have at least one game purchased. This might mean there are no free games included in this dataset, or that free-to-play games are counted as \"purchase\" if they are played. To check these, we would need meta-data, which we might do in a future notebook.\n",
    "\n",
    "Let's see if the users with one game have played their games or not."
   ]
  },
  {
   "cell_type": "code",
   "execution_count": 88,
   "id": "b93e84d3",
   "metadata": {},
   "outputs": [],
   "source": [
    "users_one_game = play_and_purchase_df[play_and_purchase_df.game == 1]"
   ]
  },
  {
   "cell_type": "code",
   "execution_count": 89,
   "id": "842f1b34",
   "metadata": {
    "scrolled": false
   },
   "outputs": [
    {
     "data": {
      "text/html": [
       "<div>\n",
       "<style scoped>\n",
       "    .dataframe tbody tr th:only-of-type {\n",
       "        vertical-align: middle;\n",
       "    }\n",
       "\n",
       "    .dataframe tbody tr th {\n",
       "        vertical-align: top;\n",
       "    }\n",
       "\n",
       "    .dataframe thead th {\n",
       "        text-align: right;\n",
       "    }\n",
       "</style>\n",
       "<table border=\"1\" class=\"dataframe\">\n",
       "  <thead>\n",
       "    <tr style=\"text-align: right;\">\n",
       "      <th></th>\n",
       "      <th>userId</th>\n",
       "      <th>game</th>\n",
       "      <th>actionValue</th>\n",
       "    </tr>\n",
       "  </thead>\n",
       "  <tbody>\n",
       "    <tr>\n",
       "      <th>6700</th>\n",
       "      <td>293364588</td>\n",
       "      <td>1</td>\n",
       "      <td>0.7</td>\n",
       "    </tr>\n",
       "    <tr>\n",
       "      <th>6701</th>\n",
       "      <td>295759540</td>\n",
       "      <td>1</td>\n",
       "      <td>9.3</td>\n",
       "    </tr>\n",
       "    <tr>\n",
       "      <th>6702</th>\n",
       "      <td>293333924</td>\n",
       "      <td>1</td>\n",
       "      <td>4.4</td>\n",
       "    </tr>\n",
       "    <tr>\n",
       "      <th>6703</th>\n",
       "      <td>221035258</td>\n",
       "      <td>1</td>\n",
       "      <td>NaN</td>\n",
       "    </tr>\n",
       "    <tr>\n",
       "      <th>6704</th>\n",
       "      <td>293349681</td>\n",
       "      <td>1</td>\n",
       "      <td>10.4</td>\n",
       "    </tr>\n",
       "    <tr>\n",
       "      <th>...</th>\n",
       "      <td>...</td>\n",
       "      <td>...</td>\n",
       "      <td>...</td>\n",
       "    </tr>\n",
       "    <tr>\n",
       "      <th>12388</th>\n",
       "      <td>169958335</td>\n",
       "      <td>1</td>\n",
       "      <td>5.8</td>\n",
       "    </tr>\n",
       "    <tr>\n",
       "      <th>12389</th>\n",
       "      <td>169953184</td>\n",
       "      <td>1</td>\n",
       "      <td>18.0</td>\n",
       "    </tr>\n",
       "    <tr>\n",
       "      <th>12390</th>\n",
       "      <td>169919297</td>\n",
       "      <td>1</td>\n",
       "      <td>4.8</td>\n",
       "    </tr>\n",
       "    <tr>\n",
       "      <th>12391</th>\n",
       "      <td>169845810</td>\n",
       "      <td>1</td>\n",
       "      <td>0.7</td>\n",
       "    </tr>\n",
       "    <tr>\n",
       "      <th>12392</th>\n",
       "      <td>309903146</td>\n",
       "      <td>1</td>\n",
       "      <td>0.2</td>\n",
       "    </tr>\n",
       "  </tbody>\n",
       "</table>\n",
       "<p>5693 rows × 3 columns</p>\n",
       "</div>"
      ],
      "text/plain": [
       "          userId  game  actionValue\n",
       "6700   293364588     1          0.7\n",
       "6701   295759540     1          9.3\n",
       "6702   293333924     1          4.4\n",
       "6703   221035258     1          NaN\n",
       "6704   293349681     1         10.4\n",
       "...          ...   ...          ...\n",
       "12388  169958335     1          5.8\n",
       "12389  169953184     1         18.0\n",
       "12390  169919297     1          4.8\n",
       "12391  169845810     1          0.7\n",
       "12392  309903146     1          0.2\n",
       "\n",
       "[5693 rows x 3 columns]"
      ]
     },
     "execution_count": 89,
     "metadata": {},
     "output_type": "execute_result"
    }
   ],
   "source": [
    "users_one_game"
   ]
  },
  {
   "cell_type": "code",
   "execution_count": 90,
   "id": "54a20eb2",
   "metadata": {},
   "outputs": [
    {
     "data": {
      "text/plain": [
       "count     5121.000000\n",
       "mean        73.635032\n",
       "std        336.392370\n",
       "min          0.100000\n",
       "25%          0.900000\n",
       "50%          3.800000\n",
       "75%         20.000000\n",
       "max      11754.000000\n",
       "Name: actionValue, dtype: float64"
      ]
     },
     "execution_count": 90,
     "metadata": {},
     "output_type": "execute_result"
    }
   ],
   "source": [
    "users_one_game.actionValue.describe()"
   ]
  },
  {
   "cell_type": "code",
   "execution_count": 92,
   "id": "b711d282",
   "metadata": {},
   "outputs": [
    {
     "data": {
      "text/html": [
       "<div>\n",
       "<style scoped>\n",
       "    .dataframe tbody tr th:only-of-type {\n",
       "        vertical-align: middle;\n",
       "    }\n",
       "\n",
       "    .dataframe tbody tr th {\n",
       "        vertical-align: top;\n",
       "    }\n",
       "\n",
       "    .dataframe thead th {\n",
       "        text-align: right;\n",
       "    }\n",
       "</style>\n",
       "<table border=\"1\" class=\"dataframe\">\n",
       "  <thead>\n",
       "    <tr style=\"text-align: right;\">\n",
       "      <th></th>\n",
       "      <th>userId</th>\n",
       "      <th>game</th>\n",
       "      <th>actionValue</th>\n",
       "    </tr>\n",
       "  </thead>\n",
       "  <tbody>\n",
       "    <tr>\n",
       "      <th>9703</th>\n",
       "      <td>73017395</td>\n",
       "      <td>1</td>\n",
       "      <td>11754.0</td>\n",
       "    </tr>\n",
       "    <tr>\n",
       "      <th>10125</th>\n",
       "      <td>101414179</td>\n",
       "      <td>1</td>\n",
       "      <td>5982.0</td>\n",
       "    </tr>\n",
       "    <tr>\n",
       "      <th>10485</th>\n",
       "      <td>93950791</td>\n",
       "      <td>1</td>\n",
       "      <td>5720.0</td>\n",
       "    </tr>\n",
       "    <tr>\n",
       "      <th>9211</th>\n",
       "      <td>117106617</td>\n",
       "      <td>1</td>\n",
       "      <td>5229.0</td>\n",
       "    </tr>\n",
       "    <tr>\n",
       "      <th>10160</th>\n",
       "      <td>102376253</td>\n",
       "      <td>1</td>\n",
       "      <td>4785.0</td>\n",
       "    </tr>\n",
       "    <tr>\n",
       "      <th>...</th>\n",
       "      <td>...</td>\n",
       "      <td>...</td>\n",
       "      <td>...</td>\n",
       "    </tr>\n",
       "    <tr>\n",
       "      <th>11868</th>\n",
       "      <td>157362930</td>\n",
       "      <td>1</td>\n",
       "      <td>2.0</td>\n",
       "    </tr>\n",
       "    <tr>\n",
       "      <th>7736</th>\n",
       "      <td>265832700</td>\n",
       "      <td>1</td>\n",
       "      <td>2.0</td>\n",
       "    </tr>\n",
       "    <tr>\n",
       "      <th>9509</th>\n",
       "      <td>133553031</td>\n",
       "      <td>1</td>\n",
       "      <td>2.0</td>\n",
       "    </tr>\n",
       "    <tr>\n",
       "      <th>11883</th>\n",
       "      <td>155793870</td>\n",
       "      <td>1</td>\n",
       "      <td>2.0</td>\n",
       "    </tr>\n",
       "    <tr>\n",
       "      <th>8760</th>\n",
       "      <td>124991843</td>\n",
       "      <td>1</td>\n",
       "      <td>2.0</td>\n",
       "    </tr>\n",
       "  </tbody>\n",
       "</table>\n",
       "<p>3149 rows × 3 columns</p>\n",
       "</div>"
      ],
      "text/plain": [
       "          userId  game  actionValue\n",
       "9703    73017395     1      11754.0\n",
       "10125  101414179     1       5982.0\n",
       "10485   93950791     1       5720.0\n",
       "9211   117106617     1       5229.0\n",
       "10160  102376253     1       4785.0\n",
       "...          ...   ...          ...\n",
       "11868  157362930     1          2.0\n",
       "7736   265832700     1          2.0\n",
       "9509   133553031     1          2.0\n",
       "11883  155793870     1          2.0\n",
       "8760   124991843     1          2.0\n",
       "\n",
       "[3149 rows x 3 columns]"
      ]
     },
     "execution_count": 92,
     "metadata": {},
     "output_type": "execute_result"
    }
   ],
   "source": [
    "users_one_game[users_one_game.actionValue > 1.99].sort_values(\"actionValue\", ascending=False)"
   ]
  },
  {
   "cell_type": "markdown",
   "id": "667db628",
   "metadata": {},
   "source": [
    "Actually, the values are higher than I expected. But we see that out of $5693$ players who have one game, $3149$ of them, which amounts to $55.3\\%$ of them, played the game at least once and the median playtime for players with one game is $3.8$ hours. Still, for a better analysis of the outlier players, we can remove players who have not played a game for more than $2$ hours."
   ]
  },
  {
   "cell_type": "code",
   "execution_count": 101,
   "id": "27b15856",
   "metadata": {},
   "outputs": [],
   "source": [
    "new_num_games = number_of_games_df[~number_of_games_df.userId.isin(users_one_game[~(users_one_game.actionValue > 1.99)].userId)]"
   ]
  },
  {
   "cell_type": "code",
   "execution_count": 103,
   "id": "a78a45a7",
   "metadata": {},
   "outputs": [
    {
     "data": {
      "text/plain": [
       "count    9849.000000\n",
       "mean       12.891360\n",
       "std        39.868373\n",
       "min         1.000000\n",
       "25%         1.000000\n",
       "50%         3.000000\n",
       "75%         8.000000\n",
       "max      1075.000000\n",
       "Name: game, dtype: float64"
      ]
     },
     "execution_count": 103,
     "metadata": {},
     "output_type": "execute_result"
    }
   ],
   "source": [
    "new_num_games.game.describe()"
   ]
  },
  {
   "cell_type": "markdown",
   "id": "e51294d5",
   "metadata": {},
   "source": [
    "The mean of the number of games a player owns increased to $12.89$. Furthermore, besides for the players who do not actually played a game Steam for a certain period of times, a player who have more than $8 + (1.5\\times \\ 7) = 18.5$ games is considered an outlier in this dataset."
   ]
  },
  {
   "cell_type": "code",
   "execution_count": 104,
   "id": "9c0268af",
   "metadata": {},
   "outputs": [
    {
     "data": {
      "text/plain": [
       "1314"
      ]
     },
     "execution_count": 104,
     "metadata": {},
     "output_type": "execute_result"
    }
   ],
   "source": [
    "len(new_num_games[new_num_games.game > 18.5])"
   ]
  },
  {
   "cell_type": "code",
   "execution_count": 105,
   "id": "10c03b4d",
   "metadata": {},
   "outputs": [
    {
     "name": "stderr",
     "output_type": "stream",
     "text": [
      "/tmp/ipykernel_5213/2706201757.py:1: UserWarning: Boolean Series key will be reindexed to match DataFrame index.\n",
      "  len(new_num_games[new_num_games.game > 13.5][new_num_games.game < 18.5])\n"
     ]
    },
    {
     "data": {
      "text/plain": [
       "363"
      ]
     },
     "execution_count": 105,
     "metadata": {},
     "output_type": "execute_result"
    }
   ],
   "source": [
    "len(new_num_games[new_num_games.game > 13.5][new_num_games.game < 18.5])"
   ]
  },
  {
   "cell_type": "markdown",
   "id": "a10fcae6",
   "metadata": {},
   "source": [
    "So, when we removed the idle players, we saved $363$ players whom are mistakenly labeled as outliers!"
   ]
  },
  {
   "cell_type": "markdown",
   "id": "a1bf2f86",
   "metadata": {},
   "source": [
    "TODO: Add Box-Whisker plots for these outlier analysis.  \n",
    "TODO: Continue with a similar analysis for playtime."
   ]
  }
 ],
 "metadata": {
  "kernelspec": {
   "display_name": "Python 3 (ipykernel)",
   "language": "python",
   "name": "python3"
  },
  "language_info": {
   "codemirror_mode": {
    "name": "ipython",
    "version": 3
   },
   "file_extension": ".py",
   "mimetype": "text/x-python",
   "name": "python",
   "nbconvert_exporter": "python",
   "pygments_lexer": "ipython3",
   "version": "3.8.12"
  }
 },
 "nbformat": 4,
 "nbformat_minor": 5
}
