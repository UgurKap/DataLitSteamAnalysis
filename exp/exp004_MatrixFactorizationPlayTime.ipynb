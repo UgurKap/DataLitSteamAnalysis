{
 "cells": [
  {
   "cell_type": "markdown",
   "id": "11b4aab4",
   "metadata": {},
   "source": [
    "In the previous experiment, we have just used the purchase information. Things get a bit more complicated when we factor in the playtime data. Why? Because in our binary treatment, we were just interested in if the user owns a game (1) or not (0). However, now we are interested in how much did the player liked a game, and putting a 0 would mean user hated it. So, we have to treat these ratings as missing values that we want to fill."
   ]
  },
  {
   "cell_type": "code",
   "execution_count": 1,
   "id": "7c598e82",
   "metadata": {},
   "outputs": [],
   "source": [
    "import numpy as np\n",
    "import pandas as pd\n",
    "from sklearn.preprocessing import OrdinalEncoder\n",
    "from scipy.sparse import coo_matrix"
   ]
  },
  {
   "cell_type": "markdown",
   "id": "0086daa5",
   "metadata": {},
   "source": [
    "It is a good thing that we have converted the implicit ratings (play times) into explicit ratings between 1-10 in exp002 notebook. Let's just load the data."
   ]
  },
  {
   "cell_type": "code",
   "execution_count": 2,
   "id": "c703cb7b",
   "metadata": {},
   "outputs": [],
   "source": [
    "data = pd.read_parquet(\"../dat/play_with_ratings.parquet\")"
   ]
  },
  {
   "cell_type": "code",
   "execution_count": 4,
   "id": "36bd3b83",
   "metadata": {},
   "outputs": [
    {
     "data": {
      "text/html": [
       "<div>\n",
       "<style scoped>\n",
       "    .dataframe tbody tr th:only-of-type {\n",
       "        vertical-align: middle;\n",
       "    }\n",
       "\n",
       "    .dataframe tbody tr th {\n",
       "        vertical-align: top;\n",
       "    }\n",
       "\n",
       "    .dataframe thead th {\n",
       "        text-align: right;\n",
       "    }\n",
       "</style>\n",
       "<table border=\"1\" class=\"dataframe\">\n",
       "  <thead>\n",
       "    <tr style=\"text-align: right;\">\n",
       "      <th></th>\n",
       "      <th>user_enc</th>\n",
       "      <th>game_enc</th>\n",
       "      <th>userId</th>\n",
       "      <th>game</th>\n",
       "      <th>actionValue</th>\n",
       "      <th>rating</th>\n",
       "    </tr>\n",
       "  </thead>\n",
       "  <tbody>\n",
       "    <tr>\n",
       "      <th>0</th>\n",
       "      <td>2166</td>\n",
       "      <td>3036</td>\n",
       "      <td>151603712</td>\n",
       "      <td>The Elder Scrolls V Skyrim</td>\n",
       "      <td>273.0</td>\n",
       "      <td>10.00</td>\n",
       "    </tr>\n",
       "    <tr>\n",
       "      <th>1</th>\n",
       "      <td>2166</td>\n",
       "      <td>1154</td>\n",
       "      <td>151603712</td>\n",
       "      <td>Fallout 4</td>\n",
       "      <td>87.0</td>\n",
       "      <td>9.64</td>\n",
       "    </tr>\n",
       "    <tr>\n",
       "      <th>2</th>\n",
       "      <td>2166</td>\n",
       "      <td>2785</td>\n",
       "      <td>151603712</td>\n",
       "      <td>Spore</td>\n",
       "      <td>14.9</td>\n",
       "      <td>8.92</td>\n",
       "    </tr>\n",
       "    <tr>\n",
       "      <th>3</th>\n",
       "      <td>2166</td>\n",
       "      <td>1155</td>\n",
       "      <td>151603712</td>\n",
       "      <td>Fallout New Vegas</td>\n",
       "      <td>12.1</td>\n",
       "      <td>8.20</td>\n",
       "    </tr>\n",
       "    <tr>\n",
       "      <th>4</th>\n",
       "      <td>2166</td>\n",
       "      <td>1719</td>\n",
       "      <td>151603712</td>\n",
       "      <td>Left 4 Dead 2</td>\n",
       "      <td>8.9</td>\n",
       "      <td>7.48</td>\n",
       "    </tr>\n",
       "    <tr>\n",
       "      <th>...</th>\n",
       "      <td>...</td>\n",
       "      <td>...</td>\n",
       "      <td>...</td>\n",
       "      <td>...</td>\n",
       "      <td>...</td>\n",
       "      <td>...</td>\n",
       "    </tr>\n",
       "    <tr>\n",
       "      <th>61263</th>\n",
       "      <td>1906</td>\n",
       "      <td>1147</td>\n",
       "      <td>128470551</td>\n",
       "      <td>Fallen Earth</td>\n",
       "      <td>2.4</td>\n",
       "      <td>1.00</td>\n",
       "    </tr>\n",
       "    <tr>\n",
       "      <th>61264</th>\n",
       "      <td>1906</td>\n",
       "      <td>1818</td>\n",
       "      <td>128470551</td>\n",
       "      <td>Magic Duels</td>\n",
       "      <td>2.2</td>\n",
       "      <td>2.80</td>\n",
       "    </tr>\n",
       "    <tr>\n",
       "      <th>61265</th>\n",
       "      <td>1906</td>\n",
       "      <td>3189</td>\n",
       "      <td>128470551</td>\n",
       "      <td>Titan Souls</td>\n",
       "      <td>1.5</td>\n",
       "      <td>6.40</td>\n",
       "    </tr>\n",
       "    <tr>\n",
       "      <th>61266</th>\n",
       "      <td>1906</td>\n",
       "      <td>1365</td>\n",
       "      <td>128470551</td>\n",
       "      <td>Grand Theft Auto Vice City</td>\n",
       "      <td>1.5</td>\n",
       "      <td>4.00</td>\n",
       "    </tr>\n",
       "    <tr>\n",
       "      <th>61267</th>\n",
       "      <td>1906</td>\n",
       "      <td>2350</td>\n",
       "      <td>128470551</td>\n",
       "      <td>RUSH</td>\n",
       "      <td>1.4</td>\n",
       "      <td>5.20</td>\n",
       "    </tr>\n",
       "  </tbody>\n",
       "</table>\n",
       "<p>61268 rows × 6 columns</p>\n",
       "</div>"
      ],
      "text/plain": [
       "       user_enc  game_enc     userId                        game  actionValue  \\\n",
       "0          2166      3036  151603712  The Elder Scrolls V Skyrim        273.0   \n",
       "1          2166      1154  151603712                   Fallout 4         87.0   \n",
       "2          2166      2785  151603712                       Spore         14.9   \n",
       "3          2166      1155  151603712           Fallout New Vegas         12.1   \n",
       "4          2166      1719  151603712               Left 4 Dead 2          8.9   \n",
       "...         ...       ...        ...                         ...          ...   \n",
       "61263      1906      1147  128470551                Fallen Earth          2.4   \n",
       "61264      1906      1818  128470551                 Magic Duels          2.2   \n",
       "61265      1906      3189  128470551                 Titan Souls          1.5   \n",
       "61266      1906      1365  128470551  Grand Theft Auto Vice City          1.5   \n",
       "61267      1906      2350  128470551                        RUSH          1.4   \n",
       "\n",
       "       rating  \n",
       "0       10.00  \n",
       "1        9.64  \n",
       "2        8.92  \n",
       "3        8.20  \n",
       "4        7.48  \n",
       "...       ...  \n",
       "61263    1.00  \n",
       "61264    2.80  \n",
       "61265    6.40  \n",
       "61266    4.00  \n",
       "61267    5.20  \n",
       "\n",
       "[61268 rows x 6 columns]"
      ]
     },
     "execution_count": 4,
     "metadata": {},
     "output_type": "execute_result"
    }
   ],
   "source": [
    "data"
   ]
  },
  {
   "cell_type": "markdown",
   "id": "8e941bb7",
   "metadata": {},
   "source": [
    "It still have some information about user encoding and game encoding we have previously used, but I will be running the encoders again and overwrite them."
   ]
  },
  {
   "cell_type": "code",
   "execution_count": 5,
   "id": "6e98a711",
   "metadata": {},
   "outputs": [],
   "source": [
    "user_encoder = OrdinalEncoder(dtype=np.int64)\n",
    "game_encoder = OrdinalEncoder(dtype=np.int64)"
   ]
  },
  {
   "cell_type": "code",
   "execution_count": 6,
   "id": "ce892b63",
   "metadata": {},
   "outputs": [],
   "source": [
    "data[\"user_enc\"] = user_encoder.fit_transform(np.array(data.userId)[:, np.newaxis])\n",
    "data[\"game_enc\"] = game_encoder.fit_transform(np.array(data.game)[:, np.newaxis])"
   ]
  },
  {
   "cell_type": "markdown",
   "id": "f9e6fdd4",
   "metadata": {},
   "source": [
    "Now, let's create the ratings matrix."
   ]
  },
  {
   "cell_type": "code",
   "execution_count": 13,
   "id": "e570bbb3",
   "metadata": {},
   "outputs": [],
   "source": [
    "rating_matrix = coo_matrix((np.array(data.rating), (np.array(data.user_enc), np.array(data.game_enc))),\n",
    "           shape=((data.user_enc.max() + 1, data.game_enc.max() + 1)),\n",
    "           dtype=np.float64).toarray()"
   ]
  },
  {
   "cell_type": "code",
   "execution_count": 18,
   "id": "4236b43a",
   "metadata": {},
   "outputs": [],
   "source": [
    "rating_matrix[rating_matrix == 0] = np.nan"
   ]
  },
  {
   "cell_type": "code",
   "execution_count": 26,
   "id": "400eb5b5",
   "metadata": {},
   "outputs": [
    {
     "data": {
      "text/plain": [
       "0.9950401624762079"
      ]
     },
     "execution_count": 26,
     "metadata": {},
     "output_type": "execute_result"
    }
   ],
   "source": [
    "np.isnan(rating_matrix).sum() / (rating_matrix.shape[0] * rating_matrix.shape[1])"
   ]
  },
  {
   "cell_type": "markdown",
   "id": "a3f8ff31",
   "metadata": {},
   "source": [
    "As expected, we have a very high number of sparse data. To make things easier, we can drop of some games and users that don't have enough ratings but I don't want to change the ratings again. Though, it would be as easy as just running experiment 2 after changing the threshold."
   ]
  },
  {
   "cell_type": "code",
   "execution_count": null,
   "id": "bcb1cf6e",
   "metadata": {},
   "outputs": [],
   "source": []
  }
 ],
 "metadata": {
  "kernelspec": {
   "display_name": "Python 3 (ipykernel)",
   "language": "python",
   "name": "python3"
  },
  "language_info": {
   "codemirror_mode": {
    "name": "ipython",
    "version": 3
   },
   "file_extension": ".py",
   "mimetype": "text/x-python",
   "name": "python",
   "nbconvert_exporter": "python",
   "pygments_lexer": "ipython3",
   "version": "3.8.12"
  }
 },
 "nbformat": 4,
 "nbformat_minor": 5
}
