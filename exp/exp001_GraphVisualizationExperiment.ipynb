{
 "cells": [
  {
   "cell_type": "code",
   "execution_count": 1,
   "id": "8c72d7fe",
   "metadata": {},
   "outputs": [],
   "source": [
    "import graphviz"
   ]
  },
  {
   "cell_type": "code",
   "execution_count": 10,
   "id": "aa847464",
   "metadata": {},
   "outputs": [
    {
     "name": "stdout",
     "output_type": "stream",
     "text": [
      "// The Round Table\n",
      "digraph \"round-table\" {\n",
      "\tA [label=\"King Arthur\"]\n",
      "\tB [label=\"Sir Bedevire the Wise\"]\n",
      "\tL [label=\"Sir Lancelot the Brave\"]\n",
      "\tA -> B\n",
      "\tA -> L\n",
      "\tB -> L [constraint=false]\n",
      "}\n",
      "\n"
     ]
    },
    {
     "data": {
      "text/plain": [
       "'doc/fig/round-table.gv.pdf'"
      ]
     },
     "execution_count": 10,
     "metadata": {},
     "output_type": "execute_result"
    },
    {
     "name": "stderr",
     "output_type": "stream",
     "text": [
      "Error: no \"view\" rule for type \"application/pdf\" passed its test case\n",
      "       (for more information, add \"--debug=1\" on the command line)\n"
     ]
    }
   ],
   "source": [
    "dot = graphviz.Digraph(\"round-table\", comment=\"The Round Table\")\n",
    "\n",
    "dot.node(\"A\", \"King Arthur\")\n",
    "dot.node(\"B\", \"Sir Bedevire the Wise\")\n",
    "dot.node(\"L\", \"Sir Lancelot the Brave\")\n",
    "\n",
    "dot.edges([\"AB\", \"AL\"])\n",
    "dot.edge(\"B\", \"L\", constraint=\"false\")\n",
    "\n",
    "print(dot.source)\n",
    "dot.render(directory=\"doc/fig\", view=True)"
   ]
  },
  {
   "cell_type": "code",
   "execution_count": 11,
   "id": "a1080ab5",
   "metadata": {},
   "outputs": [
    {
     "name": "stdout",
     "output_type": "stream",
     "text": [
      "// The Round Table\n",
      "digraph \"round-table\" {\n",
      "\tA [label=\"King Arthur\"]\n",
      "\tB [label=\"Sir Bedevire the Wise\"]\n",
      "\tL [label=\"Sir Lancelot the Brave\"]\n",
      "\tA -> B\n",
      "\tA -> L\n",
      "\tB -> L [constraint=false]\n",
      "}\n",
      "\n"
     ]
    },
    {
     "data": {
      "text/plain": [
       "'doc/fig/round-table.gv.png'"
      ]
     },
     "execution_count": 11,
     "metadata": {},
     "output_type": "execute_result"
    },
    {
     "name": "stderr",
     "output_type": "stream",
     "text": [
      "Error: no \"view\" mailcap rules found for type \"image/png\"\n"
     ]
    }
   ],
   "source": [
    "dot = graphviz.Digraph(\"round-table\", comment=\"The Round Table\", format=\"png\")\n",
    "\n",
    "dot.node(\"A\", \"King Arthur\")\n",
    "dot.node(\"B\", \"Sir Bedevire the Wise\")\n",
    "dot.node(\"L\", \"Sir Lancelot the Brave\")\n",
    "\n",
    "dot.edges([\"AB\", \"AL\"])\n",
    "dot.edge(\"B\", \"L\", constraint=\"false\")\n",
    "\n",
    "print(dot.source)\n",
    "dot.render(directory=\"doc/fig\", view=True)"
   ]
  },
  {
   "cell_type": "code",
   "execution_count": 12,
   "id": "7529062f",
   "metadata": {},
   "outputs": [
    {
     "name": "stdout",
     "output_type": "stream",
     "text": [
      "// The Round Table\n",
      "digraph \"round-table\" {\n",
      "\tA [label=\"King Arthur\"]\n",
      "\tB [label=\"Sir Bedevire the Wise\"]\n",
      "\tL [label=\"Sir Lancelot the Brave\"]\n",
      "\tA -> B\n",
      "\tA -> L\n",
      "\tB -> L [constraint=false]\n",
      "}\n",
      "\n"
     ]
    },
    {
     "data": {
      "text/plain": [
       "'doc/fig/round-table.gv.pdf'"
      ]
     },
     "execution_count": 12,
     "metadata": {},
     "output_type": "execute_result"
    },
    {
     "name": "stderr",
     "output_type": "stream",
     "text": [
      "Error: no \"view\" rule for type \"application/pdf\" passed its test case\n",
      "       (for more information, add \"--debug=1\" on the command line)\n"
     ]
    }
   ],
   "source": [
    "dot = graphviz.Digraph(\"round-table\", comment=\"The Round Table\")\n",
    "\n",
    "dot.node(\"A\", \"King Arthur\")\n",
    "dot.node(\"B\", \"Sir Bedevire the Wise\")\n",
    "dot.node(\"L\", \"Sir Lancelot the Brave\")\n",
    "\n",
    "dot.edges([\"AB\", \"AL\"])\n",
    "dot.edge(\"B\", \"L\", constraint=\"false\")\n",
    "\n",
    "print(dot.source)\n",
    "dot.render(directory=\"doc/fig\", view=True)"
   ]
  },
  {
   "cell_type": "code",
   "execution_count": 14,
   "id": "4739ae0e",
   "metadata": {},
   "outputs": [
    {
     "data": {
      "text/plain": [
       "'doc/fig/round-table.gv.png'"
      ]
     },
     "execution_count": 14,
     "metadata": {},
     "output_type": "execute_result"
    },
    {
     "name": "stderr",
     "output_type": "stream",
     "text": [
      "Error: no \"view\" mailcap rules found for type \"image/png\"\n"
     ]
    }
   ],
   "source": [
    "dot.format = \"png\"\n",
    "dot.render(directory=\"doc/fig\", view=True)"
   ]
  },
  {
   "cell_type": "code",
   "execution_count": 17,
   "id": "b462b8d5",
   "metadata": {},
   "outputs": [
    {
     "data": {
      "image/svg+xml": [
       "<?xml version=\"1.0\" encoding=\"UTF-8\" standalone=\"no\"?>\n",
       "<!DOCTYPE svg PUBLIC \"-//W3C//DTD SVG 1.1//EN\"\n",
       " \"http://www.w3.org/Graphics/SVG/1.1/DTD/svg11.dtd\">\n",
       "<!-- Generated by graphviz version 2.43.0 (0)\n",
       " -->\n",
       "<!-- Title: round&#45;table Pages: 1 -->\n",
       "<svg width=\"480pt\" height=\"116pt\"\n",
       " viewBox=\"0.00 0.00 480.48 116.00\" xmlns=\"http://www.w3.org/2000/svg\" xmlns:xlink=\"http://www.w3.org/1999/xlink\">\n",
       "<g id=\"graph0\" class=\"graph\" transform=\"scale(1 1) rotate(0) translate(4 112)\">\n",
       "<title>round&#45;table</title>\n",
       "<polygon fill=\"white\" stroke=\"transparent\" points=\"-4,4 -4,-112 476.48,-112 476.48,4 -4,4\"/>\n",
       "<!-- A -->\n",
       "<g id=\"node1\" class=\"node\">\n",
       "<title>A</title>\n",
       "<ellipse fill=\"none\" stroke=\"black\" cx=\"234.44\" cy=\"-90\" rx=\"65.79\" ry=\"18\"/>\n",
       "<text text-anchor=\"middle\" x=\"234.44\" y=\"-86.3\" font-family=\"Times,serif\" font-size=\"14.00\">King Arthur</text>\n",
       "</g>\n",
       "<!-- B -->\n",
       "<g id=\"node2\" class=\"node\">\n",
       "<title>B</title>\n",
       "<ellipse fill=\"none\" stroke=\"black\" cx=\"112.44\" cy=\"-18\" rx=\"112.38\" ry=\"18\"/>\n",
       "<text text-anchor=\"middle\" x=\"112.44\" y=\"-14.3\" font-family=\"Times,serif\" font-size=\"14.00\">Sir Bedevire the Wise</text>\n",
       "</g>\n",
       "<!-- A&#45;&gt;B -->\n",
       "<g id=\"edge1\" class=\"edge\">\n",
       "<title>A&#45;&gt;B</title>\n",
       "<path fill=\"none\" stroke=\"black\" d=\"M207.36,-73.46C190.47,-63.77 168.49,-51.16 149.94,-40.51\"/>\n",
       "<polygon fill=\"black\" stroke=\"black\" points=\"151.56,-37.41 141.14,-35.47 148.07,-43.48 151.56,-37.41\"/>\n",
       "</g>\n",
       "<!-- L -->\n",
       "<g id=\"node3\" class=\"node\">\n",
       "<title>L</title>\n",
       "<ellipse fill=\"none\" stroke=\"black\" cx=\"357.44\" cy=\"-18\" rx=\"115.08\" ry=\"18\"/>\n",
       "<text text-anchor=\"middle\" x=\"357.44\" y=\"-14.3\" font-family=\"Times,serif\" font-size=\"14.00\">Sir Lancelot the Brave</text>\n",
       "</g>\n",
       "<!-- A&#45;&gt;L -->\n",
       "<g id=\"edge2\" class=\"edge\">\n",
       "<title>A&#45;&gt;L</title>\n",
       "<path fill=\"none\" stroke=\"black\" d=\"M261.74,-73.46C278.77,-63.77 300.93,-51.16 319.64,-40.51\"/>\n",
       "<polygon fill=\"black\" stroke=\"black\" points=\"321.54,-43.46 328.5,-35.47 318.08,-37.37 321.54,-43.46\"/>\n",
       "</g>\n",
       "<!-- B&#45;&gt;L -->\n",
       "<g id=\"edge3\" class=\"edge\">\n",
       "<title>B&#45;&gt;L</title>\n",
       "<path fill=\"none\" stroke=\"black\" d=\"M224.89,-18C227.33,-18 229.77,-18 232.21,-18\"/>\n",
       "<polygon fill=\"black\" stroke=\"black\" points=\"232.24,-21.5 242.24,-18 232.24,-14.5 232.24,-21.5\"/>\n",
       "</g>\n",
       "</g>\n",
       "</svg>\n"
      ],
      "text/plain": [
       "<graphviz.graphs.Digraph at 0x7fc84c38ba90>"
      ]
     },
     "execution_count": 17,
     "metadata": {},
     "output_type": "execute_result"
    }
   ],
   "source": [
    "dot"
   ]
  },
  {
   "cell_type": "code",
   "execution_count": 18,
   "id": "64a6a34f",
   "metadata": {},
   "outputs": [],
   "source": [
    "dot.format = \"pdf\""
   ]
  },
  {
   "cell_type": "code",
   "execution_count": 19,
   "id": "c691fb2f",
   "metadata": {},
   "outputs": [
    {
     "data": {
      "image/svg+xml": [
       "<?xml version=\"1.0\" encoding=\"UTF-8\" standalone=\"no\"?>\n",
       "<!DOCTYPE svg PUBLIC \"-//W3C//DTD SVG 1.1//EN\"\n",
       " \"http://www.w3.org/Graphics/SVG/1.1/DTD/svg11.dtd\">\n",
       "<!-- Generated by graphviz version 2.43.0 (0)\n",
       " -->\n",
       "<!-- Title: round&#45;table Pages: 1 -->\n",
       "<svg width=\"480pt\" height=\"116pt\"\n",
       " viewBox=\"0.00 0.00 480.48 116.00\" xmlns=\"http://www.w3.org/2000/svg\" xmlns:xlink=\"http://www.w3.org/1999/xlink\">\n",
       "<g id=\"graph0\" class=\"graph\" transform=\"scale(1 1) rotate(0) translate(4 112)\">\n",
       "<title>round&#45;table</title>\n",
       "<polygon fill=\"white\" stroke=\"transparent\" points=\"-4,4 -4,-112 476.48,-112 476.48,4 -4,4\"/>\n",
       "<!-- A -->\n",
       "<g id=\"node1\" class=\"node\">\n",
       "<title>A</title>\n",
       "<ellipse fill=\"none\" stroke=\"black\" cx=\"234.44\" cy=\"-90\" rx=\"65.79\" ry=\"18\"/>\n",
       "<text text-anchor=\"middle\" x=\"234.44\" y=\"-86.3\" font-family=\"Times,serif\" font-size=\"14.00\">King Arthur</text>\n",
       "</g>\n",
       "<!-- B -->\n",
       "<g id=\"node2\" class=\"node\">\n",
       "<title>B</title>\n",
       "<ellipse fill=\"none\" stroke=\"black\" cx=\"112.44\" cy=\"-18\" rx=\"112.38\" ry=\"18\"/>\n",
       "<text text-anchor=\"middle\" x=\"112.44\" y=\"-14.3\" font-family=\"Times,serif\" font-size=\"14.00\">Sir Bedevire the Wise</text>\n",
       "</g>\n",
       "<!-- A&#45;&gt;B -->\n",
       "<g id=\"edge1\" class=\"edge\">\n",
       "<title>A&#45;&gt;B</title>\n",
       "<path fill=\"none\" stroke=\"black\" d=\"M207.36,-73.46C190.47,-63.77 168.49,-51.16 149.94,-40.51\"/>\n",
       "<polygon fill=\"black\" stroke=\"black\" points=\"151.56,-37.41 141.14,-35.47 148.07,-43.48 151.56,-37.41\"/>\n",
       "</g>\n",
       "<!-- L -->\n",
       "<g id=\"node3\" class=\"node\">\n",
       "<title>L</title>\n",
       "<ellipse fill=\"none\" stroke=\"black\" cx=\"357.44\" cy=\"-18\" rx=\"115.08\" ry=\"18\"/>\n",
       "<text text-anchor=\"middle\" x=\"357.44\" y=\"-14.3\" font-family=\"Times,serif\" font-size=\"14.00\">Sir Lancelot the Brave</text>\n",
       "</g>\n",
       "<!-- A&#45;&gt;L -->\n",
       "<g id=\"edge2\" class=\"edge\">\n",
       "<title>A&#45;&gt;L</title>\n",
       "<path fill=\"none\" stroke=\"black\" d=\"M261.74,-73.46C278.77,-63.77 300.93,-51.16 319.64,-40.51\"/>\n",
       "<polygon fill=\"black\" stroke=\"black\" points=\"321.54,-43.46 328.5,-35.47 318.08,-37.37 321.54,-43.46\"/>\n",
       "</g>\n",
       "<!-- B&#45;&gt;L -->\n",
       "<g id=\"edge3\" class=\"edge\">\n",
       "<title>B&#45;&gt;L</title>\n",
       "<path fill=\"none\" stroke=\"black\" d=\"M224.89,-18C227.33,-18 229.77,-18 232.21,-18\"/>\n",
       "<polygon fill=\"black\" stroke=\"black\" points=\"232.24,-21.5 242.24,-18 232.24,-14.5 232.24,-21.5\"/>\n",
       "</g>\n",
       "</g>\n",
       "</svg>\n"
      ],
      "text/plain": [
       "<graphviz.graphs.Digraph at 0x7fc84c38ba90>"
      ]
     },
     "execution_count": 19,
     "metadata": {},
     "output_type": "execute_result"
    }
   ],
   "source": [
    "dot"
   ]
  },
  {
   "cell_type": "code",
   "execution_count": 21,
   "id": "25ee8bbd",
   "metadata": {},
   "outputs": [],
   "source": [
    "dot.edge(\"B\", \"L\", weight=\"10\")"
   ]
  },
  {
   "cell_type": "code",
   "execution_count": 26,
   "id": "9d77e41e",
   "metadata": {},
   "outputs": [
    {
     "data": {
      "image/svg+xml": [
       "<?xml version=\"1.0\" encoding=\"UTF-8\" standalone=\"no\"?>\n",
       "<!DOCTYPE svg PUBLIC \"-//W3C//DTD SVG 1.1//EN\"\n",
       " \"http://www.w3.org/Graphics/SVG/1.1/DTD/svg11.dtd\">\n",
       "<!-- Generated by graphviz version 2.43.0 (0)\n",
       " -->\n",
       "<!-- Title: round&#45;table Pages: 1 -->\n",
       "<svg width=\"259pt\" height=\"188pt\"\n",
       " viewBox=\"0.00 0.00 258.68 188.00\" xmlns=\"http://www.w3.org/2000/svg\" xmlns:xlink=\"http://www.w3.org/1999/xlink\">\n",
       "<g id=\"graph0\" class=\"graph\" transform=\"scale(1 1) rotate(0) translate(4 184)\">\n",
       "<title>round&#45;table</title>\n",
       "<polygon fill=\"white\" stroke=\"transparent\" points=\"-4,4 -4,-184 254.68,-184 254.68,4 -4,4\"/>\n",
       "<!-- A -->\n",
       "<g id=\"node1\" class=\"node\">\n",
       "<title>A</title>\n",
       "<ellipse fill=\"none\" stroke=\"black\" cx=\"185.04\" cy=\"-162\" rx=\"65.79\" ry=\"18\"/>\n",
       "<text text-anchor=\"middle\" x=\"185.04\" y=\"-158.3\" font-family=\"Times,serif\" font-size=\"14.00\">King Arthur</text>\n",
       "</g>\n",
       "<!-- B -->\n",
       "<g id=\"node2\" class=\"node\">\n",
       "<title>B</title>\n",
       "<ellipse fill=\"none\" stroke=\"black\" cx=\"115.04\" cy=\"-90\" rx=\"112.38\" ry=\"18\"/>\n",
       "<text text-anchor=\"middle\" x=\"115.04\" y=\"-86.3\" font-family=\"Times,serif\" font-size=\"14.00\">Sir Bedevire the Wise</text>\n",
       "</g>\n",
       "<!-- A&#45;&gt;B -->\n",
       "<g id=\"edge1\" class=\"edge\">\n",
       "<title>A&#45;&gt;B</title>\n",
       "<path fill=\"none\" stroke=\"black\" d=\"M168.45,-144.41C159.69,-135.65 148.77,-124.73 139.1,-115.06\"/>\n",
       "<polygon fill=\"black\" stroke=\"black\" points=\"141.54,-112.55 132,-107.96 136.59,-117.5 141.54,-112.55\"/>\n",
       "</g>\n",
       "<!-- L -->\n",
       "<g id=\"node3\" class=\"node\">\n",
       "<title>L</title>\n",
       "<ellipse fill=\"none\" stroke=\"black\" cx=\"115.04\" cy=\"-18\" rx=\"115.08\" ry=\"18\"/>\n",
       "<text text-anchor=\"middle\" x=\"115.04\" y=\"-14.3\" font-family=\"Times,serif\" font-size=\"14.00\">Sir Lancelot the Brave</text>\n",
       "</g>\n",
       "<!-- A&#45;&gt;L -->\n",
       "<g id=\"edge2\" class=\"edge\">\n",
       "<title>A&#45;&gt;L</title>\n",
       "<path fill=\"none\" stroke=\"black\" d=\"M205.89,-144.58C226.28,-126.46 252.12,-96.6 236.04,-72 225.41,-55.74 208.56,-44.43 190.77,-36.59\"/>\n",
       "<polygon fill=\"black\" stroke=\"black\" points=\"192,-33.3 181.41,-32.79 189.36,-39.79 192,-33.3\"/>\n",
       "</g>\n",
       "<!-- B&#45;&gt;L -->\n",
       "<g id=\"edge3\" class=\"edge\">\n",
       "<title>B&#45;&gt;L</title>\n",
       "<path fill=\"none\" stroke=\"black\" d=\"M109.12,-71.7C108.33,-63.98 108.1,-54.71 108.44,-46.11\"/>\n",
       "<polygon fill=\"black\" stroke=\"black\" points=\"111.94,-46.32 109.14,-36.1 104.96,-45.84 111.94,-46.32\"/>\n",
       "</g>\n",
       "<!-- B&#45;&gt;L -->\n",
       "<g id=\"edge4\" class=\"edge\">\n",
       "<title>B&#45;&gt;L</title>\n",
       "<path fill=\"none\" stroke=\"black\" d=\"M120.96,-71.7C121.75,-63.98 121.98,-54.71 121.64,-46.11\"/>\n",
       "<polygon fill=\"black\" stroke=\"black\" points=\"125.12,-45.84 120.93,-36.1 118.14,-46.32 125.12,-45.84\"/>\n",
       "</g>\n",
       "</g>\n",
       "</svg>\n"
      ],
      "text/plain": [
       "<graphviz.graphs.Digraph at 0x7fc84c38ba90>"
      ]
     },
     "execution_count": 26,
     "metadata": {},
     "output_type": "execute_result"
    }
   ],
   "source": [
    "dot"
   ]
  },
  {
   "cell_type": "code",
   "execution_count": 27,
   "id": "a34de795",
   "metadata": {},
   "outputs": [],
   "source": [
    "dot.edge(\"L\", \"A\", weight=\"2\")"
   ]
  },
  {
   "cell_type": "code",
   "execution_count": 28,
   "id": "8146e029",
   "metadata": {},
   "outputs": [
    {
     "data": {
      "image/svg+xml": [
       "<?xml version=\"1.0\" encoding=\"UTF-8\" standalone=\"no\"?>\n",
       "<!DOCTYPE svg PUBLIC \"-//W3C//DTD SVG 1.1//EN\"\n",
       " \"http://www.w3.org/Graphics/SVG/1.1/DTD/svg11.dtd\">\n",
       "<!-- Generated by graphviz version 2.43.0 (0)\n",
       " -->\n",
       "<!-- Title: round&#45;table Pages: 1 -->\n",
       "<svg width=\"338pt\" height=\"188pt\"\n",
       " viewBox=\"0.00 0.00 337.68 188.00\" xmlns=\"http://www.w3.org/2000/svg\" xmlns:xlink=\"http://www.w3.org/1999/xlink\">\n",
       "<g id=\"graph0\" class=\"graph\" transform=\"scale(1 1) rotate(0) translate(4 184)\">\n",
       "<title>round&#45;table</title>\n",
       "<polygon fill=\"white\" stroke=\"transparent\" points=\"-4,4 -4,-184 333.68,-184 333.68,4 -4,4\"/>\n",
       "<!-- A -->\n",
       "<g id=\"node1\" class=\"node\">\n",
       "<title>A</title>\n",
       "<ellipse fill=\"none\" stroke=\"black\" cx=\"264.04\" cy=\"-162\" rx=\"65.79\" ry=\"18\"/>\n",
       "<text text-anchor=\"middle\" x=\"264.04\" y=\"-158.3\" font-family=\"Times,serif\" font-size=\"14.00\">King Arthur</text>\n",
       "</g>\n",
       "<!-- B -->\n",
       "<g id=\"node2\" class=\"node\">\n",
       "<title>B</title>\n",
       "<ellipse fill=\"none\" stroke=\"black\" cx=\"115.04\" cy=\"-90\" rx=\"112.38\" ry=\"18\"/>\n",
       "<text text-anchor=\"middle\" x=\"115.04\" y=\"-86.3\" font-family=\"Times,serif\" font-size=\"14.00\">Sir Bedevire the Wise</text>\n",
       "</g>\n",
       "<!-- A&#45;&gt;B -->\n",
       "<g id=\"edge1\" class=\"edge\">\n",
       "<title>A&#45;&gt;B</title>\n",
       "<path fill=\"none\" stroke=\"black\" d=\"M232.44,-146.15C210.95,-136.06 182.23,-122.56 158.57,-111.45\"/>\n",
       "<polygon fill=\"black\" stroke=\"black\" points=\"159.99,-108.25 149.45,-107.17 157.01,-114.59 159.99,-108.25\"/>\n",
       "</g>\n",
       "<!-- L -->\n",
       "<g id=\"node3\" class=\"node\">\n",
       "<title>L</title>\n",
       "<ellipse fill=\"none\" stroke=\"black\" cx=\"115.04\" cy=\"-18\" rx=\"115.08\" ry=\"18\"/>\n",
       "<text text-anchor=\"middle\" x=\"115.04\" y=\"-14.3\" font-family=\"Times,serif\" font-size=\"14.00\">Sir Lancelot the Brave</text>\n",
       "</g>\n",
       "<!-- A&#45;&gt;L -->\n",
       "<g id=\"edge2\" class=\"edge\">\n",
       "<title>A&#45;&gt;L</title>\n",
       "<path fill=\"none\" stroke=\"black\" d=\"M256.38,-143.86C251.59,-124.25 245.22,-92.25 227.04,-72 213.47,-56.88 194.81,-45.88 176.58,-37.96\"/>\n",
       "<polygon fill=\"black\" stroke=\"black\" points=\"177.69,-34.63 167.11,-34.09 175.04,-41.11 177.69,-34.63\"/>\n",
       "</g>\n",
       "<!-- B&#45;&gt;L -->\n",
       "<g id=\"edge3\" class=\"edge\">\n",
       "<title>B&#45;&gt;L</title>\n",
       "<path fill=\"none\" stroke=\"black\" d=\"M109.12,-71.7C108.33,-63.98 108.1,-54.71 108.44,-46.11\"/>\n",
       "<polygon fill=\"black\" stroke=\"black\" points=\"111.94,-46.32 109.14,-36.1 104.96,-45.84 111.94,-46.32\"/>\n",
       "</g>\n",
       "<!-- B&#45;&gt;L -->\n",
       "<g id=\"edge4\" class=\"edge\">\n",
       "<title>B&#45;&gt;L</title>\n",
       "<path fill=\"none\" stroke=\"black\" d=\"M120.96,-71.7C121.75,-63.98 121.98,-54.71 121.64,-46.11\"/>\n",
       "<polygon fill=\"black\" stroke=\"black\" points=\"125.12,-45.84 120.93,-36.1 118.14,-46.32 125.12,-45.84\"/>\n",
       "</g>\n",
       "<!-- L&#45;&gt;A -->\n",
       "<g id=\"edge5\" class=\"edge\">\n",
       "<title>L&#45;&gt;A</title>\n",
       "<path fill=\"none\" stroke=\"black\" d=\"M180.38,-32.84C203.71,-40.91 228.27,-53.31 245.04,-72 260.38,-89.09 267.31,-114.54 268.92,-133.85\"/>\n",
       "<polygon fill=\"black\" stroke=\"black\" points=\"265.43,-133.99 269.29,-143.86 272.42,-133.74 265.43,-133.99\"/>\n",
       "</g>\n",
       "</g>\n",
       "</svg>\n"
      ],
      "text/plain": [
       "<graphviz.graphs.Digraph at 0x7fc84c38ba90>"
      ]
     },
     "execution_count": 28,
     "metadata": {},
     "output_type": "execute_result"
    }
   ],
   "source": [
    "dot"
   ]
  },
  {
   "cell_type": "code",
   "execution_count": 29,
   "id": "c269bfb3",
   "metadata": {},
   "outputs": [
    {
     "name": "stdout",
     "output_type": "stream",
     "text": [
      "// The Round Table\n",
      "digraph \"round-table\" {\n",
      "\tA [label=\"King Arthur\"]\n",
      "\tB [label=\"Sir Bedevire the Wise\"]\n",
      "\tL [label=\"Sir Lancelot the Brave\"]\n",
      "\tA -> B\n",
      "\tA -> L\n",
      "\tB -> L [constraint=false]\n",
      "\tB -> L [weight=10]\n",
      "\tL -> A [weight=2]\n",
      "}\n",
      "\n"
     ]
    }
   ],
   "source": [
    "print(dot.source)"
   ]
  }
 ],
 "metadata": {
  "kernelspec": {
   "display_name": "Python 3 (ipykernel)",
   "language": "python",
   "name": "python3"
  },
  "language_info": {
   "codemirror_mode": {
    "name": "ipython",
    "version": 3
   },
   "file_extension": ".py",
   "mimetype": "text/x-python",
   "name": "python",
   "nbconvert_exporter": "python",
   "pygments_lexer": "ipython3",
   "version": "3.8.12"
  }
 },
 "nbformat": 4,
 "nbformat_minor": 5
}
