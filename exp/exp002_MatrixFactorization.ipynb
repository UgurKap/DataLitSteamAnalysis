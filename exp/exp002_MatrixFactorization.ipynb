{
 "cells": [
  {
   "cell_type": "markdown",
   "id": "6c1820e1",
   "metadata": {},
   "source": [
    "Matrix Factorization would be a nice complement to the similarity/dissimilarity analysis of users and games. In this notebook, I will see if it is viable to develop a matrix factorization based recommendation model."
   ]
  }
 ],
 "metadata": {
  "kernelspec": {
   "display_name": "Python 3 (ipykernel)",
   "language": "python",
   "name": "python3"
  },
  "language_info": {
   "codemirror_mode": {
    "name": "ipython",
    "version": 3
   },
   "file_extension": ".py",
   "mimetype": "text/x-python",
   "name": "python",
   "nbconvert_exporter": "python",
   "pygments_lexer": "ipython3",
   "version": "3.8.12"
  }
 },
 "nbformat": 4,
 "nbformat_minor": 5
}
