{
 "cells": [
  {
   "cell_type": "code",
   "execution_count": 1,
   "id": "55d6f519",
   "metadata": {},
   "outputs": [],
   "source": [
    "import graphviz"
   ]
  },
  {
   "cell_type": "code",
   "execution_count": 10,
   "id": "160f13f7",
   "metadata": {},
   "outputs": [
    {
     "name": "stdout",
     "output_type": "stream",
     "text": [
      "// The Round Table\n",
      "digraph \"round-table\" {\n",
      "\tA [label=\"King Arthur\"]\n",
      "\tB [label=\"Sir Bedevire the Wise\"]\n",
      "\tL [label=\"Sir Lancelot the Brave\"]\n",
      "\tA -> B\n",
      "\tA -> L\n",
      "\tB -> L [constraint=false]\n",
      "}\n",
      "\n"
     ]
    },
    {
     "data": {
      "text/plain": [
       "'doc/fig/round-table.gv.pdf'"
      ]
     },
     "execution_count": 10,
     "metadata": {},
     "output_type": "execute_result"
    },
    {
     "name": "stderr",
     "output_type": "stream",
     "text": [
      "Error: no \"view\" rule for type \"application/pdf\" passed its test case\n",
      "       (for more information, add \"--debug=1\" on the command line)\n"
     ]
    }
   ],
   "source": [
    "dot = graphviz.Digraph(\"round-table\", comment=\"The Round Table\")\n",
    "\n",
    "dot.node(\"A\", \"King Arthur\")\n",
    "dot.node(\"B\", \"Sir Bedevire the Wise\")\n",
    "dot.node(\"L\", \"Sir Lancelot the Brave\")\n",
    "\n",
    "dot.edges([\"AB\", \"AL\"])\n",
    "dot.edge(\"B\", \"L\", constraint=\"false\")\n",
    "\n",
    "print(dot.source)\n",
    "dot.render(directory=\"doc/fig\", view=True)"
   ]
  },
  {
   "cell_type": "code",
   "execution_count": 11,
   "id": "ebab322c",
   "metadata": {},
   "outputs": [
    {
     "name": "stdout",
     "output_type": "stream",
     "text": [
      "// The Round Table\n",
      "digraph \"round-table\" {\n",
      "\tA [label=\"King Arthur\"]\n",
      "\tB [label=\"Sir Bedevire the Wise\"]\n",
      "\tL [label=\"Sir Lancelot the Brave\"]\n",
      "\tA -> B\n",
      "\tA -> L\n",
      "\tB -> L [constraint=false]\n",
      "}\n",
      "\n"
     ]
    },
    {
     "data": {
      "text/plain": [
       "'doc/fig/round-table.gv.png'"
      ]
     },
     "execution_count": 11,
     "metadata": {},
     "output_type": "execute_result"
    },
    {
     "name": "stderr",
     "output_type": "stream",
     "text": [
      "Error: no \"view\" mailcap rules found for type \"image/png\"\n"
     ]
    }
   ],
   "source": [
    "dot = graphviz.Digraph(\"round-table\", comment=\"The Round Table\", format=\"png\")\n",
    "\n",
    "dot.node(\"A\", \"King Arthur\")\n",
    "dot.node(\"B\", \"Sir Bedevire the Wise\")\n",
    "dot.node(\"L\", \"Sir Lancelot the Brave\")\n",
    "\n",
    "dot.edges([\"AB\", \"AL\"])\n",
    "dot.edge(\"B\", \"L\", constraint=\"false\")\n",
    "\n",
    "print(dot.source)\n",
    "dot.render(directory=\"doc/fig\", view=True)"
   ]
  },
  {
   "cell_type": "code",
   "execution_count": 12,
   "id": "63aec979",
   "metadata": {},
   "outputs": [
    {
     "name": "stdout",
     "output_type": "stream",
     "text": [
      "// The Round Table\n",
      "digraph \"round-table\" {\n",
      "\tA [label=\"King Arthur\"]\n",
      "\tB [label=\"Sir Bedevire the Wise\"]\n",
      "\tL [label=\"Sir Lancelot the Brave\"]\n",
      "\tA -> B\n",
      "\tA -> L\n",
      "\tB -> L [constraint=false]\n",
      "}\n",
      "\n"
     ]
    },
    {
     "data": {
      "text/plain": [
       "'doc/fig/round-table.gv.pdf'"
      ]
     },
     "execution_count": 12,
     "metadata": {},
     "output_type": "execute_result"
    },
    {
     "name": "stderr",
     "output_type": "stream",
     "text": [
      "Error: no \"view\" rule for type \"application/pdf\" passed its test case\n",
      "       (for more information, add \"--debug=1\" on the command line)\n"
     ]
    }
   ],
   "source": [
    "dot = graphviz.Digraph(\"round-table\", comment=\"The Round Table\")\n",
    "\n",
    "dot.node(\"A\", \"King Arthur\")\n",
    "dot.node(\"B\", \"Sir Bedevire the Wise\")\n",
    "dot.node(\"L\", \"Sir Lancelot the Brave\")\n",
    "\n",
    "dot.edges([\"AB\", \"AL\"])\n",
    "dot.edge(\"B\", \"L\", constraint=\"false\")\n",
    "\n",
    "print(dot.source)\n",
    "dot.render(directory=\"doc/fig\", view=True)"
   ]
  },
  {
   "cell_type": "code",
   "execution_count": 14,
   "id": "fb2d63da",
   "metadata": {},
   "outputs": [
    {
     "data": {
      "text/plain": [
       "'doc/fig/round-table.gv.png'"
      ]
     },
     "execution_count": 14,
     "metadata": {},
     "output_type": "execute_result"
    },
    {
     "name": "stderr",
     "output_type": "stream",
     "text": [
      "Error: no \"view\" mailcap rules found for type \"image/png\"\n"
     ]
    }
   ],
   "source": [
    "dot.format = \"png\"\n",
    "dot.render(directory=\"doc/fig\", view=True)"
   ]
  },
  {
   "cell_type": "code",
   "execution_count": 17,
   "id": "8d9560e9",
   "metadata": {},
   "outputs": [
    {
     "data": {
      "image/svg+xml": [
       "<?xml version=\"1.0\" encoding=\"UTF-8\" standalone=\"no\"?>\n",
       "<!DOCTYPE svg PUBLIC \"-//W3C//DTD SVG 1.1//EN\"\n",
       " \"http://www.w3.org/Graphics/SVG/1.1/DTD/svg11.dtd\">\n",
       "<!-- Generated by graphviz version 2.43.0 (0)\n",
       " -->\n",
       "<!-- Title: round&#45;table Pages: 1 -->\n",
       "<svg width=\"480pt\" height=\"116pt\"\n",
       " viewBox=\"0.00 0.00 480.48 116.00\" xmlns=\"http://www.w3.org/2000/svg\" xmlns:xlink=\"http://www.w3.org/1999/xlink\">\n",
       "<g id=\"graph0\" class=\"graph\" transform=\"scale(1 1) rotate(0) translate(4 112)\">\n",
       "<title>round&#45;table</title>\n",
       "<polygon fill=\"white\" stroke=\"transparent\" points=\"-4,4 -4,-112 476.48,-112 476.48,4 -4,4\"/>\n",
       "<!-- A -->\n",
       "<g id=\"node1\" class=\"node\">\n",
       "<title>A</title>\n",
       "<ellipse fill=\"none\" stroke=\"black\" cx=\"234.44\" cy=\"-90\" rx=\"65.79\" ry=\"18\"/>\n",
       "<text text-anchor=\"middle\" x=\"234.44\" y=\"-86.3\" font-family=\"Times,serif\" font-size=\"14.00\">King Arthur</text>\n",
       "</g>\n",
       "<!-- B -->\n",
       "<g id=\"node2\" class=\"node\">\n",
       "<title>B</title>\n",
       "<ellipse fill=\"none\" stroke=\"black\" cx=\"112.44\" cy=\"-18\" rx=\"112.38\" ry=\"18\"/>\n",
       "<text text-anchor=\"middle\" x=\"112.44\" y=\"-14.3\" font-family=\"Times,serif\" font-size=\"14.00\">Sir Bedevire the Wise</text>\n",
       "</g>\n",
       "<!-- A&#45;&gt;B -->\n",
       "<g id=\"edge1\" class=\"edge\">\n",
       "<title>A&#45;&gt;B</title>\n",
       "<path fill=\"none\" stroke=\"black\" d=\"M207.36,-73.46C190.47,-63.77 168.49,-51.16 149.94,-40.51\"/>\n",
       "<polygon fill=\"black\" stroke=\"black\" points=\"151.56,-37.41 141.14,-35.47 148.07,-43.48 151.56,-37.41\"/>\n",
       "</g>\n",
       "<!-- L -->\n",
       "<g id=\"node3\" class=\"node\">\n",
       "<title>L</title>\n",
       "<ellipse fill=\"none\" stroke=\"black\" cx=\"357.44\" cy=\"-18\" rx=\"115.08\" ry=\"18\"/>\n",
       "<text text-anchor=\"middle\" x=\"357.44\" y=\"-14.3\" font-family=\"Times,serif\" font-size=\"14.00\">Sir Lancelot the Brave</text>\n",
       "</g>\n",
       "<!-- A&#45;&gt;L -->\n",
       "<g id=\"edge2\" class=\"edge\">\n",
       "<title>A&#45;&gt;L</title>\n",
       "<path fill=\"none\" stroke=\"black\" d=\"M261.74,-73.46C278.77,-63.77 300.93,-51.16 319.64,-40.51\"/>\n",
       "<polygon fill=\"black\" stroke=\"black\" points=\"321.54,-43.46 328.5,-35.47 318.08,-37.37 321.54,-43.46\"/>\n",
       "</g>\n",
       "<!-- B&#45;&gt;L -->\n",
       "<g id=\"edge3\" class=\"edge\">\n",
       "<title>B&#45;&gt;L</title>\n",
       "<path fill=\"none\" stroke=\"black\" d=\"M224.89,-18C227.33,-18 229.77,-18 232.21,-18\"/>\n",
       "<polygon fill=\"black\" stroke=\"black\" points=\"232.24,-21.5 242.24,-18 232.24,-14.5 232.24,-21.5\"/>\n",
       "</g>\n",
       "</g>\n",
       "</svg>\n"
      ],
      "text/plain": [
       "<graphviz.graphs.Digraph at 0x7fc84c38ba90>"
      ]
     },
     "execution_count": 17,
     "metadata": {},
     "output_type": "execute_result"
    }
   ],
   "source": [
    "dot"
   ]
  },
  {
   "cell_type": "code",
   "execution_count": 18,
   "id": "70fe8f7b",
   "metadata": {},
   "outputs": [],
   "source": [
    "dot.format = \"pdf\""
   ]
  },
  {
   "cell_type": "code",
   "execution_count": 19,
   "id": "21dcf290",
   "metadata": {},
   "outputs": [
    {
     "data": {
      "image/svg+xml": [
       "<?xml version=\"1.0\" encoding=\"UTF-8\" standalone=\"no\"?>\n",
       "<!DOCTYPE svg PUBLIC \"-//W3C//DTD SVG 1.1//EN\"\n",
       " \"http://www.w3.org/Graphics/SVG/1.1/DTD/svg11.dtd\">\n",
       "<!-- Generated by graphviz version 2.43.0 (0)\n",
       " -->\n",
       "<!-- Title: round&#45;table Pages: 1 -->\n",
       "<svg width=\"480pt\" height=\"116pt\"\n",
       " viewBox=\"0.00 0.00 480.48 116.00\" xmlns=\"http://www.w3.org/2000/svg\" xmlns:xlink=\"http://www.w3.org/1999/xlink\">\n",
       "<g id=\"graph0\" class=\"graph\" transform=\"scale(1 1) rotate(0) translate(4 112)\">\n",
       "<title>round&#45;table</title>\n",
       "<polygon fill=\"white\" stroke=\"transparent\" points=\"-4,4 -4,-112 476.48,-112 476.48,4 -4,4\"/>\n",
       "<!-- A -->\n",
       "<g id=\"node1\" class=\"node\">\n",
       "<title>A</title>\n",
       "<ellipse fill=\"none\" stroke=\"black\" cx=\"234.44\" cy=\"-90\" rx=\"65.79\" ry=\"18\"/>\n",
       "<text text-anchor=\"middle\" x=\"234.44\" y=\"-86.3\" font-family=\"Times,serif\" font-size=\"14.00\">King Arthur</text>\n",
       "</g>\n",
       "<!-- B -->\n",
       "<g id=\"node2\" class=\"node\">\n",
       "<title>B</title>\n",
       "<ellipse fill=\"none\" stroke=\"black\" cx=\"112.44\" cy=\"-18\" rx=\"112.38\" ry=\"18\"/>\n",
       "<text text-anchor=\"middle\" x=\"112.44\" y=\"-14.3\" font-family=\"Times,serif\" font-size=\"14.00\">Sir Bedevire the Wise</text>\n",
       "</g>\n",
       "<!-- A&#45;&gt;B -->\n",
       "<g id=\"edge1\" class=\"edge\">\n",
       "<title>A&#45;&gt;B</title>\n",
       "<path fill=\"none\" stroke=\"black\" d=\"M207.36,-73.46C190.47,-63.77 168.49,-51.16 149.94,-40.51\"/>\n",
       "<polygon fill=\"black\" stroke=\"black\" points=\"151.56,-37.41 141.14,-35.47 148.07,-43.48 151.56,-37.41\"/>\n",
       "</g>\n",
       "<!-- L -->\n",
       "<g id=\"node3\" class=\"node\">\n",
       "<title>L</title>\n",
       "<ellipse fill=\"none\" stroke=\"black\" cx=\"357.44\" cy=\"-18\" rx=\"115.08\" ry=\"18\"/>\n",
       "<text text-anchor=\"middle\" x=\"357.44\" y=\"-14.3\" font-family=\"Times,serif\" font-size=\"14.00\">Sir Lancelot the Brave</text>\n",
       "</g>\n",
       "<!-- A&#45;&gt;L -->\n",
       "<g id=\"edge2\" class=\"edge\">\n",
       "<title>A&#45;&gt;L</title>\n",
       "<path fill=\"none\" stroke=\"black\" d=\"M261.74,-73.46C278.77,-63.77 300.93,-51.16 319.64,-40.51\"/>\n",
       "<polygon fill=\"black\" stroke=\"black\" points=\"321.54,-43.46 328.5,-35.47 318.08,-37.37 321.54,-43.46\"/>\n",
       "</g>\n",
       "<!-- B&#45;&gt;L -->\n",
       "<g id=\"edge3\" class=\"edge\">\n",
       "<title>B&#45;&gt;L</title>\n",
       "<path fill=\"none\" stroke=\"black\" d=\"M224.89,-18C227.33,-18 229.77,-18 232.21,-18\"/>\n",
       "<polygon fill=\"black\" stroke=\"black\" points=\"232.24,-21.5 242.24,-18 232.24,-14.5 232.24,-21.5\"/>\n",
       "</g>\n",
       "</g>\n",
       "</svg>\n"
      ],
      "text/plain": [
       "<graphviz.graphs.Digraph at 0x7fc84c38ba90>"
      ]
     },
     "execution_count": 19,
     "metadata": {},
     "output_type": "execute_result"
    }
   ],
   "source": [
    "dot"
   ]
  }
 ],
 "metadata": {
  "kernelspec": {
   "display_name": "Python 3 (ipykernel)",
   "language": "python",
   "name": "python3"
  },
  "language_info": {
   "codemirror_mode": {
    "name": "ipython",
    "version": 3
   },
   "file_extension": ".py",
   "mimetype": "text/x-python",
   "name": "python",
   "nbconvert_exporter": "python",
   "pygments_lexer": "ipython3",
   "version": "3.8.12"
  }
 },
 "nbformat": 4,
 "nbformat_minor": 5
}
